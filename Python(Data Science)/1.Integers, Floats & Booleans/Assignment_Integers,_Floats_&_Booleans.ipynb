{
 "cells": [
  {
   "cell_type": "markdown",
   "metadata": {
    "id": "JRdjdmztDelX"
   },
   "source": [
    "## <u>While doing this assignment only use those concepts which have been taught till now</u>"
   ]
  },
  {
   "cell_type": "markdown",
   "metadata": {
    "id": "8ECk3jeWDelY"
   },
   "source": [
    "## <u>Problem 1</u>\n",
    "\n",
    "In a cricket tournament, based on the outcome of a particular match a team gets following points:\n",
    "* <code>wins</code> gets <code>3</code> points\n",
    "* <code>draws</code> gets <code>1</code> points\n",
    "* <code>losses</code> gets <code>0</code> points\n",
    "\n",
    "Team Aravali plays <code>8</code> matches in this tournament. It wins <code>4</code> matches, loses <code>3</code> matches and draws <code>1</code>. What is the total number of points gained by the Team Aravali?"
   ]
  },
  {
   "cell_type": "code",
   "execution_count": null,
   "metadata": {
    "id": "m68YV3OhDelZ"
   },
   "outputs": [],
   "source": [
    "# The outcome variables are defined below\n",
    "wins = 4\n",
    "losses = 3\n",
    "draws = 1"
   ]
  },
  {
   "cell_type": "code",
   "execution_count": 1,
   "metadata": {
    "id": "2cnTsWvODelc"
   },
   "outputs": [],
   "source": [
    "# Calculate the total points gained by Team Aravali\n",
    "aravali_points = 4*3+1*1+3*0"
   ]
  },
  {
   "cell_type": "code",
   "execution_count": 2,
   "metadata": {
    "colab": {
     "base_uri": "https://localhost:8080/"
    },
    "id": "4ccas7cPDelf",
    "outputId": "dae54b55-266a-4343-c9d6-99deb99014e5"
   },
   "outputs": [
    {
     "name": "stdout",
     "output_type": "stream",
     "text": [
      "13\n"
     ]
    }
   ],
   "source": [
    "# Print the variable aravali_points\n",
    "print(aravali_points)"
   ]
  },
  {
   "cell_type": "markdown",
   "metadata": {
    "id": "-ioInfYKDelh"
   },
   "source": [
    "## <u>Problem 2 </u>\n",
    "\n",
    "* Root of a function $f(x)$ is defined as the value $x$ where $f(x)=0$ \n",
    "* Consider a quadratic function $ f(x) = x^2 + 3x - 4$\n",
    "\n",
    "### Find the value of the function $f(x)$ at points   $x=2,x=-1, x=1$."
   ]
  },
  {
   "cell_type": "code",
   "execution_count": 3,
   "metadata": {
    "id": "4_HZwes5Delh"
   },
   "outputs": [],
   "source": [
    "# Calculate the value of the function f(x) at x = 2\n",
    "func_evaluated_at_2 = 2**2+3*2-4"
   ]
  },
  {
   "cell_type": "code",
   "execution_count": 4,
   "metadata": {
    "colab": {
     "base_uri": "https://localhost:8080/"
    },
    "id": "zBkLIXk2Dell",
    "outputId": "67041014-4371-490a-83c1-3b92258e1d65"
   },
   "outputs": [
    {
     "name": "stdout",
     "output_type": "stream",
     "text": [
      "6\n"
     ]
    }
   ],
   "source": [
    "# Print the value below\n",
    "print(func_evaluated_at_2)"
   ]
  },
  {
   "cell_type": "code",
   "execution_count": 3,
   "metadata": {
    "id": "uD4MAyKIDelo"
   },
   "outputs": [],
   "source": [
    "# Calculate the value of the function f(x) at x = -1\n",
    "func_evaluated_at_minus1 = (-1)**2+3*(-1)-4"
   ]
  },
  {
   "cell_type": "code",
   "execution_count": 4,
   "metadata": {
    "colab": {
     "base_uri": "https://localhost:8080/"
    },
    "id": "Jx9WVMQ2Delq",
    "outputId": "03456a03-aec9-465a-b3ce-6530d62b6fd1"
   },
   "outputs": [
    {
     "name": "stdout",
     "output_type": "stream",
     "text": [
      "-6\n"
     ]
    }
   ],
   "source": [
    "# Print the value below\n",
    "print(func_evaluated_at_minus1)"
   ]
  },
  {
   "cell_type": "code",
   "execution_count": 6,
   "metadata": {
    "id": "h8PgF85VDelu"
   },
   "outputs": [],
   "source": [
    "# Calculate the value of the function f(x) at x = 1\n",
    "func_evaluated_at_1 = 1**1+3*1-4"
   ]
  },
  {
   "cell_type": "code",
   "execution_count": 7,
   "metadata": {
    "colab": {
     "base_uri": "https://localhost:8080/"
    },
    "id": "BdrFgug6Delw",
    "outputId": "ae1e86d4-9b91-41d6-f221-073fd7840c69"
   },
   "outputs": [
    {
     "name": "stdout",
     "output_type": "stream",
     "text": [
      "0\n"
     ]
    },
    {
     "data": {
      "text/plain": [
       "int"
      ]
     },
     "execution_count": 7,
     "metadata": {},
     "output_type": "execute_result"
    }
   ],
   "source": [
    "# Print the type of the variable below\n",
    "print(func_evaluated_at_1)\n",
    "type(func_evaluated_at_1)"
   ]
  },
  {
   "cell_type": "markdown",
   "metadata": {
    "id": "EvldlcwqDelz"
   },
   "source": [
    "### Return the boolean for each value of $x$ to find out whether that value is a root of $f(x)$"
   ]
  },
  {
   "cell_type": "code",
   "execution_count": 20,
   "metadata": {
    "colab": {
     "base_uri": "https://localhost:8080/"
    },
    "id": "-tUSAgzgDel0",
    "outputId": "5681afed-2634-40e6-ae3a-7615dbb5c8b0"
   },
   "outputs": [
    {
     "data": {
      "text/plain": [
       "False"
      ]
     },
     "execution_count": 20,
     "metadata": {},
     "output_type": "execute_result"
    }
   ],
   "source": [
    "# Check whether 2 is a root of f(x)\n",
    "func_evaluated_at_2 == 0"
   ]
  },
  {
   "cell_type": "code",
   "execution_count": 21,
   "metadata": {
    "colab": {
     "base_uri": "https://localhost:8080/"
    },
    "id": "gsNS4Ki4Del2",
    "outputId": "5ca6b8fc-f528-4da9-801d-72a200a7b2ca"
   },
   "outputs": [
    {
     "data": {
      "text/plain": [
       "False"
      ]
     },
     "execution_count": 21,
     "metadata": {},
     "output_type": "execute_result"
    }
   ],
   "source": [
    "# Check whether -1 is a root of f(x)\n",
    "func_evaluated_at_minus1 == 0"
   ]
  },
  {
   "cell_type": "code",
   "execution_count": 22,
   "metadata": {
    "colab": {
     "base_uri": "https://localhost:8080/"
    },
    "id": "yExDY-ZXDel4",
    "outputId": "50f0398f-4d14-4552-dac3-62c7dd7a35de"
   },
   "outputs": [
    {
     "data": {
      "text/plain": [
       "True"
      ]
     },
     "execution_count": 22,
     "metadata": {},
     "output_type": "execute_result"
    }
   ],
   "source": [
    "# Check whether 1 is a root of f(x)\n",
    "func_evaluated_at_1 == 0"
   ]
  },
  {
   "cell_type": "markdown",
   "metadata": {
    "id": "tNAI2AHRDel6"
   },
   "source": [
    "## <u> Problem 3 </u>\n",
    "\n",
    "A bag contains <code>45</code> apples, <code>65</code> oranges and <code>30</code> bananas. Find the percentage of each type of food items in the bag."
   ]
  },
  {
   "cell_type": "code",
   "execution_count": 27,
   "metadata": {
    "colab": {
     "base_uri": "https://localhost:8080/"
    },
    "id": "XJ9Rq4P3Del7",
    "outputId": "df302724-f7ec-4d6e-f5c2-4481fac7fe69"
   },
   "outputs": [
    {
     "name": "stdout",
     "output_type": "stream",
     "text": [
      "32.14\n"
     ]
    }
   ],
   "source": [
    "# Calculate the percentage of apples and print the variable\n",
    "apples=45\n",
    "oranges=65\n",
    "bananas=30\n",
    "apples_perc = 45/140\n",
    "percentage_apple = apples_perc * 100\n",
    "print(round(percentage_apple,2))"
   ]
  },
  {
   "cell_type": "code",
   "execution_count": 30,
   "metadata": {
    "colab": {
     "base_uri": "https://localhost:8080/"
    },
    "id": "S6lJZtaXDel9",
    "outputId": "9eaba117-e7ea-439d-afaf-54af33ec5703"
   },
   "outputs": [
    {
     "name": "stdout",
     "output_type": "stream",
     "text": [
      "46.43\n"
     ]
    }
   ],
   "source": [
    "# Calculate the percentage of oranges and print the variable\n",
    "oranges_perc = 65/140\n",
    "percentage_oranges = oranges_perc * 100\n",
    "print(round(percentage_oranges,2))"
   ]
  },
  {
   "cell_type": "code",
   "execution_count": 31,
   "metadata": {
    "colab": {
     "base_uri": "https://localhost:8080/"
    },
    "id": "mHzMnSZrDemB",
    "outputId": "027affbc-fd08-4ee0-8eca-36f147729296"
   },
   "outputs": [
    {
     "name": "stdout",
     "output_type": "stream",
     "text": [
      "21.43\n"
     ]
    }
   ],
   "source": [
    "# Calculate the percentage of bananas and print the variable\n",
    "bananas_perc = 30/140\n",
    "percentage_bananas = bananas_perc * 100\n",
    "print(round(percentage_bananas,2))\n"
   ]
  },
  {
   "cell_type": "markdown",
   "metadata": {
    "id": "F44LczfzDemD"
   },
   "source": [
    "## <u>Problem 4</u>\n",
    "\n",
    "You were playing a fun guessing game during your school break. There were a total of 100 participants excluding you. Out of these 100 people, 30 were Maths Majors, 45 were Economics Majors and 25 were Physics Majors.\n",
    "\n",
    "The game was divided into three rounds.\n",
    "\n",
    "* In the first round, you had to guess the number of Maths Majors and you <b>correctly</b> guessed 20 of them.\n",
    "* In the second round, you had to guess the number of Economics Majors and you <b>correctly</b> guessed 30 of them.\n",
    "* In the final third round, you had to guess the number of Physics Majors and you <b>correctly</b> guessed 20 of them.\n",
    "\n",
    "### Accuracy is defined as the number of correct guesses upon total number of people in the group (expressed in percentage)"
   ]
  },
  {
   "cell_type": "markdown",
   "metadata": {
    "id": "lkGEV_zpDemE"
   },
   "source": [
    "* ### Define your variables"
   ]
  },
  {
   "cell_type": "code",
   "execution_count": 32,
   "metadata": {
    "id": "OfXY9LcVDemF"
   },
   "outputs": [],
   "source": [
    "# Store the number of Maths majors\n",
    "maths_majors = 30\n",
    "\n",
    "# Store the number of Economics majors\n",
    "economics_majors = 45\n",
    "\n",
    "# Store the number of Physics majors\n",
    "physics_majors = 25\n",
    "\n",
    "# Store the number of your correct guesses of Maths majors\n",
    "g_maths_majors= 20\n",
    "\n",
    "# Store the number of your correct guesses of Economics majors\n",
    "g_economics_majors= 30\n",
    "\n",
    "# Store the number of your correct guesses of Physics majors\n",
    "g_physics_majors=20"
   ]
  },
  {
   "cell_type": "markdown",
   "metadata": {
    "id": "Eg_Or6GmDemI"
   },
   "source": [
    "* ### Calculate your accuracy in each of the three rounds"
   ]
  },
  {
   "cell_type": "code",
   "execution_count": 36,
   "metadata": {
    "colab": {
     "base_uri": "https://localhost:8080/"
    },
    "id": "QUbDKOR3DemJ",
    "outputId": "6909ff5a-f735-43a9-94ed-9c9c21d93568"
   },
   "outputs": [
    {
     "name": "stdout",
     "output_type": "stream",
     "text": [
      "66.67\n"
     ]
    }
   ],
   "source": [
    "# Print the Maths accuracy\n",
    "acc_maths = 20/30\n",
    "perc_maths = acc_maths * 100\n",
    "print(round(perc_maths,2))"
   ]
  },
  {
   "cell_type": "code",
   "execution_count": 37,
   "metadata": {
    "colab": {
     "base_uri": "https://localhost:8080/"
    },
    "id": "PfX4DowhDemM",
    "outputId": "a655165e-edba-4adb-f9dc-57b6e6716685"
   },
   "outputs": [
    {
     "name": "stdout",
     "output_type": "stream",
     "text": [
      "66.67\n"
     ]
    }
   ],
   "source": [
    "# Print the Economics accuracy\n",
    "acc_economics = 30/45\n",
    "prec_economics = acc_economics * 100\n",
    "print(round(prec_economics,2))"
   ]
  },
  {
   "cell_type": "code",
   "execution_count": 38,
   "metadata": {
    "colab": {
     "base_uri": "https://localhost:8080/"
    },
    "id": "ZV-hzGKCDemP",
    "outputId": "c68613b1-c8de-4cd1-cead-4df4ae0dce07"
   },
   "outputs": [
    {
     "name": "stdout",
     "output_type": "stream",
     "text": [
      "80.0\n"
     ]
    }
   ],
   "source": [
    "# Print the Physics accuracy\n",
    "acc_physics = 20/25\n",
    "prec_physics = acc_physics * 100\n",
    "print(round(prec_physics,2))"
   ]
  },
  {
   "cell_type": "markdown",
   "metadata": {
    "id": "FvKZonnwDemS"
   },
   "source": [
    "* ### Calculate your overall accuracy in the entire game"
   ]
  },
  {
   "cell_type": "code",
   "execution_count": 39,
   "metadata": {
    "colab": {
     "base_uri": "https://localhost:8080/"
    },
    "id": "eP3JkusLDemT",
    "outputId": "f5bff11e-97d4-4fa8-c19d-fb46701ecd56"
   },
   "outputs": [
    {
     "name": "stdout",
     "output_type": "stream",
     "text": [
      "70.0\n"
     ]
    }
   ],
   "source": [
    "# Print the overall accuracy\n",
    "acc_game = 70/100\n",
    "prec_game = acc_game * 100\n",
    "print(round(prec_game,2))"
   ]
  },
  {
   "cell_type": "code",
   "execution_count": null,
   "metadata": {
    "id": "xmDZADjiVWuM"
   },
   "outputs": [],
   "source": []
  }
 ],
 "metadata": {
  "colab": {
   "name": "Assignment - Integers, Floats & Booleans.ipynb",
   "provenance": []
  },
  "kernelspec": {
   "display_name": "Python 3",
   "language": "python",
   "name": "python3"
  },
  "language_info": {
   "codemirror_mode": {
    "name": "ipython",
    "version": 3
   },
   "file_extension": ".py",
   "mimetype": "text/x-python",
   "name": "python",
   "nbconvert_exporter": "python",
   "pygments_lexer": "ipython3",
   "version": "3.8.8"
  }
 },
 "nbformat": 4,
 "nbformat_minor": 1
}
