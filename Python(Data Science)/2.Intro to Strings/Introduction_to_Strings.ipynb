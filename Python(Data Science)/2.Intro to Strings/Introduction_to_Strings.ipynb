{
 "cells": [
  {
   "cell_type": "markdown",
   "metadata": {
    "id": "tdT_IP3Pmr0m"
   },
   "source": [
    "## Introduction to Strings "
   ]
  },
  {
   "cell_type": "markdown",
   "metadata": {
    "id": "i_QBxEJymr0n"
   },
   "source": [
    "* Strings are used in Python to record text information, such as names. It could either be a word, a phrase, a sentence, a paragraph or an entire encyclopedia. Strings in Python are actually a *sequence*, which     basically means Python keeps track of every element in the string as a sequence. For example, Python understands the string \"joker' to be a sequence of letters in a specific order. This means we will be able to use indexing to grab particular letters (like the first letter, or the last letter).\n",
    "\n",
    "\n",
    "* This idea of a sequence is an important one in Python and we will touch upon it later on in the future."
   ]
  },
  {
   "cell_type": "markdown",
   "metadata": {
    "id": "w_7O10QKmr0o"
   },
   "source": [
    "###  Creating a String\n",
    "* To create a string in Python you need to use either single quotes or double quotes. For example:"
   ]
  },
  {
   "cell_type": "code",
   "execution_count": null,
   "metadata": {
    "colab": {
     "base_uri": "https://localhost:8080/",
     "height": 34
    },
    "id": "XMd1nYlKmr0p",
    "outputId": "14f7df32-8a5b-4642-8ef5-e115d9af2eff"
   },
   "outputs": [
    {
     "data": {
      "application/vnd.google.colaboratory.intrinsic+json": {
       "type": "string"
      },
      "text/plain": [
       "'algebra'"
      ]
     },
     "execution_count": 23,
     "metadata": {
      "tags": []
     },
     "output_type": "execute_result"
    }
   ],
   "source": [
    "# Single word\n",
    "my_first_string= 'algebra'\n",
    "my_first_string"
   ]
  },
  {
   "cell_type": "code",
   "execution_count": null,
   "metadata": {
    "colab": {
     "base_uri": "https://localhost:8080/"
    },
    "id": "iaz2basTmr0t",
    "outputId": "f275b05f-19db-40b5-cf85-f9855065868f"
   },
   "outputs": [
    {
     "name": "stdout",
     "output_type": "stream",
     "text": [
      "Statistics sits at the heart of machine learning\n"
     ]
    }
   ],
   "source": [
    "# Entire phrase \n",
    "phrase = 'Statistics sits at the heart of machine learning'\n",
    "print(phrase)"
   ]
  },
  {
   "cell_type": "code",
   "execution_count": null,
   "metadata": {
    "colab": {
     "base_uri": "https://localhost:8080/"
    },
    "id": "HElQZWE569tQ",
    "outputId": "ec81048d-d2f8-4cad-d0cd-238d557136e2"
   },
   "outputs": [
    {
     "data": {
      "text/plain": [
       "str"
      ]
     },
     "execution_count": 26,
     "metadata": {
      "tags": []
     },
     "output_type": "execute_result"
    }
   ],
   "source": [
    "# Statement to get the type of the variable\n",
    "type(phrase)"
   ]
  },
  {
   "cell_type": "code",
   "execution_count": null,
   "metadata": {
    "colab": {
     "base_uri": "https://localhost:8080/"
    },
    "id": "r77SuNlPmr0v",
    "outputId": "7daf4da9-8228-421d-da40-5a0e911a302a"
   },
   "outputs": [
    {
     "name": "stdout",
     "output_type": "stream",
     "text": [
      "String built with double quotes\n"
     ]
    }
   ],
   "source": [
    "# We can also use double quote\n",
    "my_string = \"String built with double quotes\"\n",
    "print(my_string)   # Use the print command "
   ]
  },
  {
   "cell_type": "code",
   "execution_count": null,
   "metadata": {
    "colab": {
     "base_uri": "https://localhost:8080/"
    },
    "id": "RZj7MWrMmr0y",
    "outputId": "5ec836e3-c590-4dfd-a42e-c9bf3abd1b75"
   },
   "outputs": [
    {
     "name": "stdout",
     "output_type": "stream",
     "text": [
      "I'm using single quotes, but this will create an error\n"
     ]
    }
   ],
   "source": [
    "# Be careful with quotes!\n",
    "sentence= 'I'm using single quotes, but this will create an error'\n",
    "print(sentence)"
   ]
  },
  {
   "cell_type": "markdown",
   "metadata": {
    "id": "Xn10egj7mr00"
   },
   "source": [
    "* The reason for the error above is because the single quote in <code>I'm</code> stopped the string. You can use combinations of double and single quotes to get the complete statement."
   ]
  },
  {
   "cell_type": "code",
   "execution_count": null,
   "metadata": {
    "colab": {
     "base_uri": "https://localhost:8080/"
    },
    "id": "SyVPr5ACmr00",
    "outputId": "29fae8c7-d14a-4d42-dbb8-1ea7af7d3cf5"
   },
   "outputs": [
    {
     "name": "stdout",
     "output_type": "stream",
     "text": [
      "I'm using single quotes, but this will create an error\n"
     ]
    }
   ],
   "source": [
    "sentence= \"I'm using single quotes, but this will create an error\"\n",
    "print(sentence)"
   ]
  },
  {
   "cell_type": "code",
   "execution_count": null,
   "metadata": {
    "colab": {
     "base_uri": "https://localhost:8080/"
    },
    "id": "QNrQSfSMdJqu",
    "outputId": "78ae1566-9112-49d6-a3ee-2edce550ccca"
   },
   "outputs": [
    {
     "name": "stdout",
     "output_type": "stream",
     "text": [
      "#\n"
     ]
    }
   ],
   "source": [
    "hashtag = \"#\"\n",
    "print(hashtag)"
   ]
  },
  {
   "cell_type": "code",
   "execution_count": null,
   "metadata": {
    "colab": {
     "base_uri": "https://localhost:8080/"
    },
    "id": "G9N2tqNI9Uv5",
    "outputId": "9054fd1e-6113-4c52-df31-a41272dbed61"
   },
   "outputs": [
    {
     "data": {
      "text/plain": [
       "str"
      ]
     },
     "execution_count": 31,
     "metadata": {
      "tags": []
     },
     "output_type": "execute_result"
    }
   ],
   "source": [
    "type(hashtag)"
   ]
  },
  {
   "cell_type": "markdown",
   "metadata": {
    "id": "xuXCjPSGmr04"
   },
   "source": [
    "### How to print strings"
   ]
  },
  {
   "cell_type": "markdown",
   "metadata": {
    "id": "is3z5n_lmr04"
   },
   "source": [
    "* Using Jupyter notebook with just a string in a cell will automatically output strings, but the correct way to display strings in your output is by using a print function."
   ]
  },
  {
   "cell_type": "code",
   "execution_count": null,
   "metadata": {
    "colab": {
     "base_uri": "https://localhost:8080/",
     "height": 34
    },
    "id": "yBTUPuy1mr05",
    "outputId": "a03297a1-fee9-49ba-9987-dbf0f0e74239"
   },
   "outputs": [
    {
     "data": {
      "application/vnd.google.colaboratory.intrinsic+json": {
       "type": "string"
      },
      "text/plain": [
       "'Deep Learning'"
      ]
     },
     "execution_count": 33,
     "metadata": {
      "tags": []
     },
     "output_type": "execute_result"
    }
   ],
   "source": [
    "# We can simply declare a string\n",
    "'Deep Learning'"
   ]
  },
  {
   "cell_type": "code",
   "execution_count": null,
   "metadata": {
    "colab": {
     "base_uri": "https://localhost:8080/",
     "height": 34
    },
    "id": "zT7Fa4THmr08",
    "outputId": "50553e6a-d51b-414d-863e-2c542235af1f"
   },
   "outputs": [
    {
     "data": {
      "application/vnd.google.colaboratory.intrinsic+json": {
       "type": "string"
      },
      "text/plain": [
       "'Calculus'"
      ]
     },
     "execution_count": 34,
     "metadata": {
      "tags": []
     },
     "output_type": "execute_result"
    }
   ],
   "source": [
    "# Note that we can't output multiple strings this way\n",
    "'Linear Algebra'\n",
    "'Calculus'"
   ]
  },
  {
   "cell_type": "markdown",
   "metadata": {
    "id": "r0F7SS9Smr0_"
   },
   "source": [
    "### We can use the <code>print()</code> statement to print a string."
   ]
  },
  {
   "cell_type": "code",
   "execution_count": null,
   "metadata": {
    "colab": {
     "base_uri": "https://localhost:8080/"
    },
    "id": "eBQY27Yrmr1A",
    "outputId": "de218e66-81fd-453a-e0b1-6823dda27b03"
   },
   "outputs": [
    {
     "name": "stdout",
     "output_type": "stream",
     "text": [
      "Use \n",
      " to print a new line\n",
      "\n",
      "\n",
      "See what \n",
      " I mean?\n"
     ]
    }
   ],
   "source": [
    "# print('Linear Algebra')\n",
    "# print('Calculus')\n",
    "print('Use \\n to print a new line')\n",
    "print('\\n')\n",
    "print('See what \\n I mean?')"
   ]
  },
  {
   "cell_type": "markdown",
   "metadata": {
    "id": "vlVtl911mr1D"
   },
   "source": [
    "## Playing with strings"
   ]
  },
  {
   "cell_type": "markdown",
   "metadata": {
    "id": "vjXDmhwLmr1D"
   },
   "source": [
    "* We can also use a function called <code>len()</code> to check the length of a string!"
   ]
  },
  {
   "cell_type": "code",
   "execution_count": null,
   "metadata": {
    "colab": {
     "base_uri": "https://localhost:8080/"
    },
    "id": "otU_-I1Bmr1E",
    "outputId": "1cd94aef-54d6-4e39-abd4-2c5e67b515ee"
   },
   "outputs": [
    {
     "data": {
      "text/plain": [
       "12"
      ]
     },
     "execution_count": 41,
     "metadata": {
      "tags": []
     },
     "output_type": "execute_result"
    }
   ],
   "source": [
    "algo = 'regres sion '\n",
    "len(algo)"
   ]
  },
  {
   "cell_type": "markdown",
   "metadata": {
    "id": "wVMqyh4Gmr1G"
   },
   "source": [
    "### <b> Python's built-in len() function counts all of the characters in the string, including spaces and punctuation. </b>"
   ]
  },
  {
   "cell_type": "markdown",
   "metadata": {
    "id": "6XqIFlaYmr1H"
   },
   "source": [
    "### <u> String Indexing </u>\n",
    "\n",
    "* We know strings are a sequence, which means Python can use indexes to call parts of the sequence.\n",
    "\n",
    "\n",
    "* A string index refers to the location of an element present in a string.\n",
    "\n",
    "\n",
    "* The indexing begins from 0 in Python. \n",
    "\n",
    "\n",
    "* The first element is assigned an index 0, the second element is assigned an index of 1 and so on and so forth.\n",
    "\n",
    "\n",
    "* In Python, we use brackets <code>[]</code> after an object to call its index."
   ]
  },
  {
   "cell_type": "code",
   "execution_count": 3,
   "metadata": {
    "id": "W1aqQ0DQmr1H"
   },
   "outputs": [],
   "source": [
    "# Assign string as a string\n",
    "string  = 'Principal Component Analysis!'"
   ]
  },
  {
   "cell_type": "code",
   "execution_count": null,
   "metadata": {
    "colab": {
     "base_uri": "https://localhost:8080/"
    },
    "id": "Vx4emEz2mr1K",
    "outputId": "32b4f043-5115-4733-96ee-500af7cbccee"
   },
   "outputs": [
    {
     "name": "stdout",
     "output_type": "stream",
     "text": [
      "Principal Component Analysis!\n"
     ]
    }
   ],
   "source": [
    "# Print the object\n",
    "print(string) "
   ]
  },
  {
   "cell_type": "markdown",
   "metadata": {
    "id": "rHxN8nKNmr1N"
   },
   "source": [
    "* Let's start indexing!"
   ]
  },
  {
   "cell_type": "code",
   "execution_count": null,
   "metadata": {
    "colab": {
     "base_uri": "https://localhost:8080/"
    },
    "id": "8hmOB4UOmr1O",
    "outputId": "63711639-a804-4beb-f2e2-e4164ca82544"
   },
   "outputs": [
    {
     "name": "stdout",
     "output_type": "stream",
     "text": [
      "i\n"
     ]
    }
   ],
   "source": [
    "# Show first element (in this case a letter)\n",
    "print(string[5])"
   ]
  },
  {
   "cell_type": "code",
   "execution_count": null,
   "metadata": {
    "colab": {
     "base_uri": "https://localhost:8080/"
    },
    "id": "_-ut3Whcmr1Q",
    "outputId": "d638a154-f0d3-4f41-8245-f0173844a980"
   },
   "outputs": [
    {
     "name": "stdout",
     "output_type": "stream",
     "text": [
      "n\n"
     ]
    }
   ],
   "source": [
    "print(string[15])"
   ]
  },
  {
   "cell_type": "code",
   "execution_count": null,
   "metadata": {
    "colab": {
     "base_uri": "https://localhost:8080/"
    },
    "id": "fQsgVUr8icwU",
    "outputId": "be3feb3b-a905-4423-e850-a4182d0aa413"
   },
   "outputs": [
    {
     "data": {
      "text/plain": [
       "29"
      ]
     },
     "execution_count": 47,
     "metadata": {
      "tags": []
     },
     "output_type": "execute_result"
    }
   ],
   "source": [
    "len(string)"
   ]
  },
  {
   "cell_type": "code",
   "execution_count": null,
   "metadata": {
    "colab": {
     "base_uri": "https://localhost:8080/"
    },
    "id": "AdYupakmmr1S",
    "outputId": "e574e23c-e984-4ff3-ce39-824d6c7e1d37"
   },
   "outputs": [
    {
     "name": "stdout",
     "output_type": "stream",
     "text": [
      "!\n"
     ]
    }
   ],
   "source": [
    "# Grab the element at the index -1, which is the LAST element\n",
    "print(string[28])"
   ]
  },
  {
   "cell_type": "code",
   "execution_count": null,
   "metadata": {
    "colab": {
     "base_uri": "https://localhost:8080/"
    },
    "id": "S--o1sizE92w",
    "outputId": "909c9ab2-fd99-4ea6-cf74-a67bff58ac1a"
   },
   "outputs": [
    {
     "name": "stdout",
     "output_type": "stream",
     "text": [
      "s\n"
     ]
    }
   ],
   "source": [
    "print(string[-2])"
   ]
  },
  {
   "cell_type": "markdown",
   "metadata": {
    "id": "EhEAYjRnmr1U"
   },
   "source": [
    "### String Slicing"
   ]
  },
  {
   "cell_type": "markdown",
   "metadata": {
    "id": "3h7kltimmr1V"
   },
   "source": [
    "* We can use a <code>:</code> to perform *slicing* which grabs everything up to a designated point. \n",
    "\n",
    "\n",
    "* The starting index is specified on the left of the <code>:</code> and the ending index is specified on the right of the <code>:</code>. \n",
    "\n",
    "\n",
    "* Remember the element located at the right index is not included."
   ]
  },
  {
   "cell_type": "code",
   "execution_count": 4,
   "metadata": {
    "colab": {
     "base_uri": "https://localhost:8080/"
    },
    "id": "mUroqei-mr1V",
    "outputId": "726d6a78-83d4-4588-be10-d62bb555abcf"
   },
   "outputs": [
    {
     "name": "stdout",
     "output_type": "stream",
     "text": [
      "Principal Component Analysis!\n",
      "Principal Com\n"
     ]
    }
   ],
   "source": [
    "# Grab everything past the first term all the way to the length of s which is len(s)\n",
    "print(string)\n",
    "print(string[:13])"
   ]
  },
  {
   "cell_type": "code",
   "execution_count": null,
   "metadata": {
    "colab": {
     "base_uri": "https://localhost:8080/",
     "height": 34
    },
    "id": "MhnWuVT9GAx2",
    "outputId": "429fb989-3eb6-4c8d-e0b1-49ac2055ec5e"
   },
   "outputs": [
    {
     "data": {
      "application/vnd.google.colaboratory.intrinsic+json": {
       "type": "string"
      },
      "text/plain": [
       "'p'"
      ]
     },
     "execution_count": 54,
     "metadata": {
      "tags": []
     },
     "output_type": "execute_result"
    }
   ],
   "source": [
    "string[13]"
   ]
  },
  {
   "cell_type": "code",
   "execution_count": null,
   "metadata": {
    "colab": {
     "base_uri": "https://localhost:8080/",
     "height": 35
    },
    "id": "dqDQwX-yj7pg",
    "outputId": "3a6539e4-582f-4b8f-b534-47a1cc983aa0"
   },
   "outputs": [
    {
     "data": {
      "application/vnd.google.colaboratory.intrinsic+json": {
       "type": "string"
      },
      "text/plain": [
       "'m'"
      ]
     },
     "execution_count": 37,
     "metadata": {
      "tags": []
     },
     "output_type": "execute_result"
    }
   ],
   "source": [
    "string[12]"
   ]
  },
  {
   "cell_type": "code",
   "execution_count": null,
   "metadata": {
    "colab": {
     "base_uri": "https://localhost:8080/"
    },
    "id": "d6VcutfNmr1Z",
    "outputId": "0cdb480f-5bdf-4df0-d88d-b0b2e93ee93a"
   },
   "outputs": [
    {
     "name": "stdout",
     "output_type": "stream",
     "text": [
      "Component Analysis!\n"
     ]
    }
   ],
   "source": [
    "# Grab everything starting from index 10 till index 18\n",
    "print(string[10:])"
   ]
  },
  {
   "cell_type": "markdown",
   "metadata": {
    "id": "wI8WSykWmr1b"
   },
   "source": [
    "* If you do not specify the ending index, then all elements are extracted which comes after the starting index including the element at that starting index. The operation knows only to stop when it has run through the entire string."
   ]
  },
  {
   "cell_type": "code",
   "execution_count": null,
   "metadata": {
    "colab": {
     "base_uri": "https://localhost:8080/",
     "height": 34
    },
    "id": "rEhtYIfVmr1c",
    "outputId": "e3acc835-8604-4368-b808-9a18be302436"
   },
   "outputs": [
    {
     "name": "stdout",
     "output_type": "stream",
     "text": [
      "nc\n"
     ]
    }
   ],
   "source": [
    "print(string[3:5])"
   ]
  },
  {
   "cell_type": "markdown",
   "metadata": {
    "id": "BEPRya3tmr1e"
   },
   "source": [
    "* If you do not specify the starting index, then all elements are extracted which comes befores the ending index excluding the element at the specified ending index. The operation knows only to stop when it has extracted all elements before the  element at the ending index."
   ]
  },
  {
   "cell_type": "code",
   "execution_count": null,
   "metadata": {
    "colab": {
     "base_uri": "https://localhost:8080/",
     "height": 34
    },
    "id": "f92GKgPymr1e",
    "outputId": "95ea5960-7b19-4429-81fa-29c7fc8958d5"
   },
   "outputs": [
    {
     "name": "stdout",
     "output_type": "stream",
     "text": [
      "in\n"
     ]
    }
   ],
   "source": [
    "print(string[2:4])"
   ]
  },
  {
   "cell_type": "markdown",
   "metadata": {
    "id": "C8le5z8Bmr1h"
   },
   "source": [
    "* If you do not specify the starting and the ending index, it will extract all elements of the string."
   ]
  },
  {
   "cell_type": "code",
   "execution_count": null,
   "metadata": {
    "colab": {
     "base_uri": "https://localhost:8080/"
    },
    "id": "3BF6pugMmr1h",
    "outputId": "61f88414-e5f6-4f7a-e4e1-bc4a89068c77"
   },
   "outputs": [
    {
     "name": "stdout",
     "output_type": "stream",
     "text": [
      "Principal Component Analysis!\n",
      "Principal Component Analysis!\n"
     ]
    }
   ],
   "source": [
    "#Everything\n",
    "print(string[:])\n",
    "print(string)"
   ]
  },
  {
   "cell_type": "markdown",
   "metadata": {
    "id": "l79g0xEgmr1j"
   },
   "source": [
    "* We can also use negative indexing to go backwards."
   ]
  },
  {
   "cell_type": "code",
   "execution_count": null,
   "metadata": {
    "colab": {
     "base_uri": "https://localhost:8080/",
     "height": 34
    },
    "id": "Rj40dnalmr1j",
    "outputId": "84175bf9-cf7f-4c5a-dd9c-03f70dc36012"
   },
   "outputs": [
    {
     "data": {
      "application/vnd.google.colaboratory.intrinsic+json": {
       "type": "string"
      },
      "text/plain": [
       "'P'"
      ]
     },
     "execution_count": 62,
     "metadata": {
      "tags": []
     },
     "output_type": "execute_result"
    }
   ],
   "source": [
    "# Last letter (one index behind 0 so it loops back around)\n",
    "string[-29]"
   ]
  },
  {
   "cell_type": "code",
   "execution_count": 37,
   "metadata": {},
   "outputs": [
    {
     "name": "stdout",
     "output_type": "stream",
     "text": [
      "Principal Component Analysis!\n"
     ]
    }
   ],
   "source": [
    "print(string)"
   ]
  },
  {
   "cell_type": "markdown",
   "metadata": {
    "id": "AcQKQlfgmr1m"
   },
   "source": [
    "* We can also extract the last four elements. Remember we can use the index -4 to extract the FOURTH LAST element"
   ]
  },
  {
   "cell_type": "code",
   "execution_count": 47,
   "metadata": {
    "colab": {
     "base_uri": "https://localhost:8080/",
     "height": 34
    },
    "id": "jATkF52omr1m",
    "outputId": "4ce3a0c4-4f03-4aa9-c582-c13b2d856e40"
   },
   "outputs": [
    {
     "data": {
      "text/plain": [
       "'rincipal Component Analy'"
      ]
     },
     "execution_count": 47,
     "metadata": {},
     "output_type": "execute_result"
    }
   ],
   "source": [
    "#it will give me empty string because as we can see we're going bakcward but we're using smaller index before that, \n",
    "#it won't reach -4. So it will give us the empty string.\n",
    "string[--1:-4] "
   ]
  },
  {
   "cell_type": "code",
   "execution_count": 7,
   "metadata": {
    "colab": {
     "base_uri": "https://localhost:8080/",
     "height": 34
    },
    "id": "vl0XNuYOI9uB",
    "outputId": "c9c35a8d-0e98-4278-dd43-221fa9d883f4"
   },
   "outputs": [
    {
     "data": {
      "text/plain": [
       "'sis!'"
      ]
     },
     "execution_count": 7,
     "metadata": {},
     "output_type": "execute_result"
    }
   ],
   "source": [
    "string[-4:]"
   ]
  },
  {
   "cell_type": "markdown",
   "metadata": {
    "id": "L76zPkC8mr1q"
   },
   "source": [
    "* We can also use index and slice notation to grab elements of a sequence by a specified step size (the default is 1). For instance we can use two colons in a row and then a number specifying the frequency to grab elements. For example:"
   ]
  },
  {
   "cell_type": "code",
   "execution_count": 12,
   "metadata": {
    "colab": {
     "base_uri": "https://localhost:8080/"
    },
    "id": "7yl_nj5fmr1r",
    "outputId": "bfbec37d-3f96-44bf-afb2-da66583d9a84"
   },
   "outputs": [
    {
     "name": "stdout",
     "output_type": "stream",
     "text": [
      "Principal Component Analysis!\n"
     ]
    }
   ],
   "source": [
    "# Grab everything, but go in steps size of 1\n",
    "print(string[::1])"
   ]
  },
  {
   "cell_type": "code",
   "execution_count": 13,
   "metadata": {
    "colab": {
     "base_uri": "https://localhost:8080/"
    },
    "id": "QHg78LgvJzNE",
    "outputId": "b0841458-1731-4993-e54f-a037be06925f"
   },
   "outputs": [
    {
     "name": "stdout",
     "output_type": "stream",
     "text": [
      "Pnp mntnys\n"
     ]
    }
   ],
   "source": [
    "print(string[::3])"
   ]
  },
  {
   "cell_type": "code",
   "execution_count": 22,
   "metadata": {
    "colab": {
     "base_uri": "https://localhost:8080/"
    },
    "id": "ereWDp3Cmr1t",
    "outputId": "5787eb48-7dc1-4ed5-b89b-5ee048a2f87a"
   },
   "outputs": [
    {
     "name": "stdout",
     "output_type": "stream",
     "text": [
      "iC\n"
     ]
    }
   ],
   "source": [
    "# Grab everything, but go in step sizes of 5\n",
    "print(string[5:15:5]) #first 5 will be the starting index, 15 will be end index and 5 will be the step size"
   ]
  },
  {
   "cell_type": "code",
   "execution_count": null,
   "metadata": {
    "colab": {
     "base_uri": "https://localhost:8080/",
     "height": 34
    },
    "id": "rJnDRdwnKvos",
    "outputId": "7bc94be8-9e73-4630-df76-c16aeeb27577"
   },
   "outputs": [
    {
     "data": {
      "application/vnd.google.colaboratory.intrinsic+json": {
       "type": "string"
      },
      "text/plain": [
       "'Principal Component Analysis!'"
      ]
     },
     "execution_count": 72,
     "metadata": {
      "tags": []
     },
     "output_type": "execute_result"
    }
   ],
   "source": [
    "string[::1]"
   ]
  },
  {
   "cell_type": "code",
   "execution_count": null,
   "metadata": {
    "colab": {
     "base_uri": "https://localhost:8080/",
     "height": 34
    },
    "id": "GIljHfQimr1w",
    "outputId": "8cdef351-350e-48ee-d1ea-0a7e6b234bb8"
   },
   "outputs": [
    {
     "data": {
      "application/vnd.google.colaboratory.intrinsic+json": {
       "type": "string"
      },
      "text/plain": [
       "'!sisylanA tnenopmoC lapicnirP'"
      ]
     },
     "execution_count": 73,
     "metadata": {
      "tags": []
     },
     "output_type": "execute_result"
    }
   ],
   "source": [
    "# We can use this to print a string backwards\n",
    "string[::-1]"
   ]
  },
  {
   "cell_type": "code",
   "execution_count": 24,
   "metadata": {},
   "outputs": [
    {
     "data": {
      "text/plain": [
       "'Principal Component Analysis!'"
      ]
     },
     "execution_count": 24,
     "metadata": {},
     "output_type": "execute_result"
    }
   ],
   "source": [
    "string"
   ]
  },
  {
   "cell_type": "code",
   "execution_count": 26,
   "metadata": {
    "colab": {
     "base_uri": "https://localhost:8080/",
     "height": 34
    },
    "id": "kcaf3COcmr1y",
    "outputId": "d516de4d-0556-4b81-a00d-b3dfdff0f7b7"
   },
   "outputs": [
    {
     "data": {
      "text/plain": [
       "''"
      ]
     },
     "execution_count": 26,
     "metadata": {},
     "output_type": "execute_result"
    }
   ],
   "source": [
    "# We can use this to print a string backwards with steps\n",
    "#it will give me empty string because as we can see we're going bakcward but we're using smaller index before that, \n",
    "#it won't reach 4. So it will give us the empty string.\n",
    "# its start with 2 and step size is -1 = 2-1 = 1. So it won't work\n",
    "string[2:4:-1]"
   ]
  },
  {
   "cell_type": "code",
   "execution_count": 31,
   "metadata": {
    "colab": {
     "base_uri": "https://localhost:8080/",
     "height": 34
    },
    "id": "wkioIS4ELIRo",
    "outputId": "5e0ce101-28aa-482e-eb6d-ff9de3b56f05"
   },
   "outputs": [
    {
     "data": {
      "text/plain": [
       "'cn'"
      ]
     },
     "execution_count": 31,
     "metadata": {},
     "output_type": "execute_result"
    }
   ],
   "source": [
    "#Here we're again going backward but here our index start with 4(C) and end index is 2(i)\n",
    "#4-1 = 3, 3-2 =1(but we know 2 is the end index, so this won't be included. So only 2 characters will be printed here.)\n",
    "string[4:2:-1]"
   ]
  },
  {
   "cell_type": "code",
   "execution_count": 49,
   "metadata": {
    "colab": {
     "base_uri": "https://localhost:8080/",
     "height": 34
    },
    "id": "xHczE7gypxMk",
    "outputId": "0da43de4-7b45-4181-9b95-b1c283369c2c"
   },
   "outputs": [
    {
     "data": {
      "text/plain": [
       "'f'"
      ]
     },
     "execution_count": 49,
     "metadata": {},
     "output_type": "execute_result"
    }
   ],
   "source": [
    "s = 'faobar'\n",
    "s[0::-3]\n",
    "#it startwith 0 and it going for negative direction. so it will not cover anything."
   ]
  },
  {
   "cell_type": "code",
   "execution_count": 50,
   "metadata": {},
   "outputs": [
    {
     "data": {
      "text/plain": [
       "'rba'"
      ]
     },
     "execution_count": 50,
     "metadata": {},
     "output_type": "execute_result"
    }
   ],
   "source": [
    "s[-1::-2]\n",
    "#-1-3 = -4, -4-3=-7 (but 7 is out of bounds )"
   ]
  },
  {
   "cell_type": "markdown",
   "metadata": {
    "id": "qTlCu2phmr11"
   },
   "source": [
    "## String Properties\n",
    "\n",
    "* It's important to note that strings have an important property known as *immutability*. \n",
    "\n",
    "\n",
    "* This means that once a string is created, the elements within it can not be changed or replaced via item assignment. We will see how we can do such operation using string methods"
   ]
  },
  {
   "cell_type": "code",
   "execution_count": 57,
   "metadata": {
    "colab": {
     "base_uri": "https://localhost:8080/",
     "height": 201
    },
    "id": "eE2jbYDMmr11",
    "outputId": "bfa89dae-185e-48f6-e8e4-3379f5df895d"
   },
   "outputs": [
    {
     "ename": "TypeError",
     "evalue": "'str' object does not support item assignment",
     "output_type": "error",
     "traceback": [
      "\u001b[1;31m---------------------------------------------------------------------------\u001b[0m",
      "\u001b[1;31mTypeError\u001b[0m                                 Traceback (most recent call last)",
      "\u001b[1;32m<ipython-input-57-f55372fc219f>\u001b[0m in \u001b[0;36m<module>\u001b[1;34m\u001b[0m\n\u001b[0;32m      1\u001b[0m \u001b[1;31m# Can we change our string 'Hello' to 'Cello'? Lets try replacing the first letter H with C\u001b[0m\u001b[1;33m\u001b[0m\u001b[1;33m\u001b[0m\u001b[1;33m\u001b[0m\u001b[0m\n\u001b[0;32m      2\u001b[0m \u001b[0mstring\u001b[0m\u001b[1;33m=\u001b[0m\u001b[1;34m'Hello'\u001b[0m\u001b[1;33m\u001b[0m\u001b[1;33m\u001b[0m\u001b[0m\n\u001b[1;32m----> 3\u001b[1;33m \u001b[0mstring\u001b[0m\u001b[1;33m[\u001b[0m\u001b[1;36m0\u001b[0m\u001b[1;33m]\u001b[0m \u001b[1;33m=\u001b[0m \u001b[1;34m'C'\u001b[0m\u001b[1;33m\u001b[0m\u001b[1;33m\u001b[0m\u001b[0m\n\u001b[0m",
      "\u001b[1;31mTypeError\u001b[0m: 'str' object does not support item assignment"
     ]
    }
   ],
   "source": [
    "# Can we change our string 'Hello' to 'Cello'? Lets try replacing the first letter H with C\n",
    "string='Hello'\n",
    "string[0] = 'C'"
   ]
  },
  {
   "cell_type": "markdown",
   "metadata": {
    "id": "cGn9h31xmr13"
   },
   "source": [
    "* Notice how the error tells us directly what we can't do, that is we can't change the item assignment!\n",
    "\n",
    "\n",
    "* Something we *can* do is concatenate strings!"
   ]
  },
  {
   "cell_type": "code",
   "execution_count": 58,
   "metadata": {
    "colab": {
     "base_uri": "https://localhost:8080/"
    },
    "id": "Ana6cTXTmr14",
    "outputId": "6f9f11e5-b888-4e65-bb2d-2378119eb32a"
   },
   "outputs": [
    {
     "name": "stdout",
     "output_type": "stream",
     "text": [
      "abc def\n"
     ]
    }
   ],
   "source": [
    "# Concatenate strings!\n",
    "\n",
    "string1='abc'\n",
    "string2='def'\n",
    "print(string1 + ' ' + string2 )"
   ]
  },
  {
   "cell_type": "code",
   "execution_count": 59,
   "metadata": {
    "colab": {
     "base_uri": "https://localhost:8080/",
     "height": 166
    },
    "id": "ouFQybUrNCgm",
    "outputId": "418bfb3c-c8c6-4615-84bd-927d579a4ba0"
   },
   "outputs": [
    {
     "ename": "TypeError",
     "evalue": "can only concatenate str (not \"int\") to str",
     "output_type": "error",
     "traceback": [
      "\u001b[1;31m---------------------------------------------------------------------------\u001b[0m",
      "\u001b[1;31mTypeError\u001b[0m                                 Traceback (most recent call last)",
      "\u001b[1;32m<ipython-input-59-544903aa2d55>\u001b[0m in \u001b[0;36m<module>\u001b[1;34m\u001b[0m\n\u001b[1;32m----> 1\u001b[1;33m \u001b[0mprint\u001b[0m\u001b[1;33m(\u001b[0m\u001b[0mstring1\u001b[0m \u001b[1;33m+\u001b[0m \u001b[1;36m4\u001b[0m \u001b[1;33m+\u001b[0m \u001b[0mstring2\u001b[0m\u001b[1;33m)\u001b[0m\u001b[1;33m\u001b[0m\u001b[1;33m\u001b[0m\u001b[0m\n\u001b[0m",
      "\u001b[1;31mTypeError\u001b[0m: can only concatenate str (not \"int\") to str"
     ]
    }
   ],
   "source": [
    "print(string1 + 4 + string2)"
   ]
  },
  {
   "cell_type": "markdown",
   "metadata": {
    "id": "S3h79CMjmr17"
   },
   "source": [
    "* To convert an integer into a string, you can use the <code>str()</code> function or you can simply write the number in quotes"
   ]
  },
  {
   "cell_type": "code",
   "execution_count": 60,
   "metadata": {
    "colab": {
     "base_uri": "https://localhost:8080/"
    },
    "id": "-bQKbbIKmr17",
    "outputId": "873a7cde-a05d-4590-dfd6-3d5700981ae8"
   },
   "outputs": [
    {
     "name": "stdout",
     "output_type": "stream",
     "text": [
      "abc4def\n"
     ]
    }
   ],
   "source": [
    "# Concatenate strings!\n",
    "\n",
    "string1='abc'\n",
    "string2='def'\n",
    "num = 4\n",
    "print(string1 + str(4) + string2)"
   ]
  },
  {
   "cell_type": "code",
   "execution_count": 54,
   "metadata": {
    "colab": {
     "base_uri": "https://localhost:8080/",
     "height": 35
    },
    "id": "PRTTNkyWqujV",
    "outputId": "7fff1a14-2e6e-46b6-9196-e323d8ee07c8"
   },
   "outputs": [
    {
     "data": {
      "text/plain": [
       "'4'"
      ]
     },
     "execution_count": 54,
     "metadata": {},
     "output_type": "execute_result"
    }
   ],
   "source": [
    "str(num)"
   ]
  },
  {
   "cell_type": "code",
   "execution_count": 61,
   "metadata": {
    "colab": {
     "base_uri": "https://localhost:8080/",
     "height": 35
    },
    "id": "mm6CJD-fmr19",
    "outputId": "9f80ff5a-3305-4387-a5c1-f844268804f8"
   },
   "outputs": [
    {
     "data": {
      "text/plain": [
       "'abc4def'"
      ]
     },
     "execution_count": 61,
     "metadata": {},
     "output_type": "execute_result"
    }
   ],
   "source": [
    "# Concatenate strings!\n",
    "string1='abc'\n",
    "string2='def'\n",
    "string1 + '4'+ string2"
   ]
  },
  {
   "cell_type": "code",
   "execution_count": 62,
   "metadata": {
    "colab": {
     "base_uri": "https://localhost:8080/",
     "height": 34
    },
    "id": "oU-CD4VbrBJ5",
    "outputId": "ae24d5ab-c558-4a91-fde7-d62e840f2668"
   },
   "outputs": [
    {
     "name": "stdout",
     "output_type": "stream",
     "text": [
      "Hello\n"
     ]
    }
   ],
   "source": [
    "print(string)"
   ]
  },
  {
   "cell_type": "code",
   "execution_count": 63,
   "metadata": {
    "colab": {
     "base_uri": "https://localhost:8080/"
    },
    "id": "N1iCkcKomr1_",
    "outputId": "bc69472d-73d6-4890-c85c-fc369ab48c70"
   },
   "outputs": [
    {
     "name": "stdout",
     "output_type": "stream",
     "text": [
      "Hello concatenate me!\n"
     ]
    }
   ],
   "source": [
    "# We can reassign string completely though!\n",
    "string = string + ' concatenate me!'\n",
    "print(string)"
   ]
  },
  {
   "cell_type": "code",
   "execution_count": 64,
   "metadata": {
    "colab": {
     "base_uri": "https://localhost:8080/",
     "height": 34
    },
    "id": "pj2d89iKmr2A",
    "outputId": "a40491aa-eafa-42dd-93bd-290a4fe9d58a"
   },
   "outputs": [
    {
     "data": {
      "text/plain": [
       "'wubbawubbawubba'"
      ]
     },
     "execution_count": 64,
     "metadata": {},
     "output_type": "execute_result"
    }
   ],
   "source": [
    "letters = 'wubba'\n",
    "letters*3"
   ]
  },
  {
   "cell_type": "markdown",
   "metadata": {
    "id": "duTA9_hlmr2C"
   },
   "source": [
    "## String functions and methods"
   ]
  },
  {
   "cell_type": "code",
   "execution_count": 65,
   "metadata": {
    "colab": {
     "base_uri": "https://localhost:8080/"
    },
    "id": "0Wy8i1-Mmr2D",
    "outputId": "e8a4249e-4a08-4af9-916d-cc63ac99fdd2"
   },
   "outputs": [
    {
     "name": "stdout",
     "output_type": "stream",
     "text": [
      "Neural Networks\n"
     ]
    }
   ],
   "source": [
    "algorithm = 'Neural Networks'\n",
    "\n",
    "print(algorithm)"
   ]
  },
  {
   "cell_type": "markdown",
   "metadata": {
    "id": "03n7vTXRmr2E"
   },
   "source": [
    "### <code>len()</code> \n",
    "\n",
    "* <code>len()</code> function returns the length of the string"
   ]
  },
  {
   "cell_type": "code",
   "execution_count": 66,
   "metadata": {
    "colab": {
     "base_uri": "https://localhost:8080/"
    },
    "id": "At6CdDUgmr2F",
    "outputId": "44b85688-cce9-4751-fa62-4456480a008d"
   },
   "outputs": [
    {
     "data": {
      "text/plain": [
       "15"
      ]
     },
     "execution_count": 66,
     "metadata": {},
     "output_type": "execute_result"
    }
   ],
   "source": [
    "# Print the length of the string\n",
    "len(algorithm)"
   ]
  },
  {
   "cell_type": "code",
   "execution_count": 70,
   "metadata": {},
   "outputs": [
    {
     "name": "stdout",
     "output_type": "stream",
     "text": [
      "abc\n"
     ]
    }
   ],
   "source": [
    "alphabets='abc'\n",
    "print(alphabets)"
   ]
  },
  {
   "cell_type": "code",
   "execution_count": 71,
   "metadata": {},
   "outputs": [
    {
     "data": {
      "text/plain": [
       "3"
      ]
     },
     "execution_count": 71,
     "metadata": {},
     "output_type": "execute_result"
    }
   ],
   "source": [
    "len(alphabets)"
   ]
  },
  {
   "cell_type": "markdown",
   "metadata": {
    "id": "cF2zYtzdmr2G"
   },
   "source": [
    "###  <code>lower()</code>\n",
    "\n",
    "* <code>lower()</code> method converts the string to lowercase "
   ]
  },
  {
   "cell_type": "code",
   "execution_count": 72,
   "metadata": {
    "colab": {
     "base_uri": "https://localhost:8080/",
     "height": 34
    },
    "id": "nX86MJxZmr2H",
    "outputId": "fc48bd40-085e-4bde-8a3b-d2307384d86c"
   },
   "outputs": [
    {
     "data": {
      "text/plain": [
       "'neural networks'"
      ]
     },
     "execution_count": 72,
     "metadata": {},
     "output_type": "execute_result"
    }
   ],
   "source": [
    "# Conver the string to lowercase\n",
    "algorithm.lower()"
   ]
  },
  {
   "cell_type": "code",
   "execution_count": 73,
   "metadata": {
    "colab": {
     "base_uri": "https://localhost:8080/"
    },
    "id": "uNysVw_SsMNn",
    "outputId": "bf175166-692d-4964-8b8c-a48b734add4e"
   },
   "outputs": [
    {
     "name": "stdout",
     "output_type": "stream",
     "text": [
      "Neural Networks\n"
     ]
    }
   ],
   "source": [
    "print(algorithm)"
   ]
  },
  {
   "cell_type": "markdown",
   "metadata": {
    "id": "858z5CKZmr2J"
   },
   "source": [
    "* <u> What about <code>lower(algorithm)</code>? Is it not similar to the <code>len()</code>function?</u>\n",
    "\n",
    "\n",
    "* <u> An important point to note here is <code>len()</code> is a function and <code>lower()</code> is a method for a string object. It will be pretty clear about the exact differences between a function and a method as we move ahead. </u>"
   ]
  },
  {
   "cell_type": "code",
   "execution_count": 74,
   "metadata": {
    "colab": {
     "base_uri": "https://localhost:8080/",
     "height": 184
    },
    "id": "dUG6OM68mr2J",
    "outputId": "1bc77bce-6a97-4900-8a03-c9aa2b09586f"
   },
   "outputs": [
    {
     "ename": "NameError",
     "evalue": "name 'lower' is not defined",
     "output_type": "error",
     "traceback": [
      "\u001b[1;31m---------------------------------------------------------------------------\u001b[0m",
      "\u001b[1;31mNameError\u001b[0m                                 Traceback (most recent call last)",
      "\u001b[1;32m<ipython-input-74-4d609230893c>\u001b[0m in \u001b[0;36m<module>\u001b[1;34m\u001b[0m\n\u001b[0;32m      1\u001b[0m \u001b[1;31m# Lets try that out\u001b[0m\u001b[1;33m\u001b[0m\u001b[1;33m\u001b[0m\u001b[1;33m\u001b[0m\u001b[0m\n\u001b[1;32m----> 2\u001b[1;33m \u001b[0mlower\u001b[0m\u001b[1;33m(\u001b[0m\u001b[0malgorithm\u001b[0m\u001b[1;33m)\u001b[0m\u001b[1;33m\u001b[0m\u001b[1;33m\u001b[0m\u001b[0m\n\u001b[0m",
      "\u001b[1;31mNameError\u001b[0m: name 'lower' is not defined"
     ]
    }
   ],
   "source": [
    "# Lets try that out\n",
    "lower(algorithm)"
   ]
  },
  {
   "cell_type": "markdown",
   "metadata": {
    "id": "Uk9EwCKRmr2L"
   },
   "source": [
    "###  <code>upper()</code> \n",
    "\n",
    "* <code>upper()</code> method converts the string to uppercase "
   ]
  },
  {
   "cell_type": "code",
   "execution_count": 75,
   "metadata": {
    "colab": {
     "base_uri": "https://localhost:8080/",
     "height": 34
    },
    "id": "cqkxoLYwmr2M",
    "outputId": "dd0a6aae-9b7c-4415-a39e-e170af2a4109"
   },
   "outputs": [
    {
     "data": {
      "text/plain": [
       "'NEURAL NETWORKS'"
      ]
     },
     "execution_count": 75,
     "metadata": {},
     "output_type": "execute_result"
    }
   ],
   "source": [
    "# Convert the string to uppercase\n",
    "algorithm.upper()"
   ]
  },
  {
   "cell_type": "code",
   "execution_count": 76,
   "metadata": {
    "colab": {
     "base_uri": "https://localhost:8080/"
    },
    "id": "yO16_FvNP3u3",
    "outputId": "d42b952f-09b0-4d50-a378-15f6842c4e77"
   },
   "outputs": [
    {
     "name": "stdout",
     "output_type": "stream",
     "text": [
      "Neural Networks\n"
     ]
    }
   ],
   "source": [
    "print(algorithm)"
   ]
  },
  {
   "cell_type": "markdown",
   "metadata": {
    "id": "ikQx6g8tmr2P"
   },
   "source": [
    "### <code>count()</code> \n",
    "\n",
    "*  <code>count()</code> method returns the count of a string in the given string. Unlike <code>lower()</code> and <code>upper()</code> method, the <code>count()</code> method takes a string as an argument"
   ]
  },
  {
   "cell_type": "code",
   "execution_count": 77,
   "metadata": {
    "colab": {
     "base_uri": "https://localhost:8080/"
    },
    "id": "NZ4Z8talmr2Q",
    "outputId": "aad5c7f7-f49a-458f-b61f-e1777d5dc93f"
   },
   "outputs": [
    {
     "name": "stdout",
     "output_type": "stream",
     "text": [
      "Neural Networks\n"
     ]
    }
   ],
   "source": [
    "print(algorithm)"
   ]
  },
  {
   "cell_type": "code",
   "execution_count": 78,
   "metadata": {
    "colab": {
     "base_uri": "https://localhost:8080/"
    },
    "id": "fYzKjXf5mr2T",
    "outputId": "4b25aeb1-c0e7-4592-b368-996d272264c7"
   },
   "outputs": [
    {
     "data": {
      "text/plain": [
       "2"
      ]
     },
     "execution_count": 78,
     "metadata": {},
     "output_type": "execute_result"
    }
   ],
   "source": [
    "algorithm.count('Ne')"
   ]
  },
  {
   "cell_type": "code",
   "execution_count": 79,
   "metadata": {
    "colab": {
     "base_uri": "https://localhost:8080/",
     "height": 34
    },
    "id": "iM7o2uh-mr2W",
    "outputId": "c54542d9-8967-4fca-c95b-287b57e5c189"
   },
   "outputs": [
    {
     "data": {
      "text/plain": [
       "1"
      ]
     },
     "execution_count": 79,
     "metadata": {},
     "output_type": "execute_result"
    }
   ],
   "source": [
    "algorithm.count('eu')"
   ]
  },
  {
   "cell_type": "code",
   "execution_count": null,
   "metadata": {
    "colab": {
     "base_uri": "https://localhost:8080/"
    },
    "id": "3En7zUGmmr2c",
    "outputId": "6b26fdd9-82f0-472a-a3cd-3c1fc934222f"
   },
   "outputs": [
    {
     "data": {
      "text/plain": [
       "1"
      ]
     },
     "execution_count": 98,
     "metadata": {
      "tags": []
     },
     "output_type": "execute_result"
    }
   ],
   "source": [
    "algorithm.count(' ')"
   ]
  },
  {
   "cell_type": "code",
   "execution_count": null,
   "metadata": {
    "colab": {
     "base_uri": "https://localhost:8080/",
     "height": 34
    },
    "id": "omv1VDDqmr2f",
    "outputId": "5d21adde-f12f-4703-df2e-78b4358309b5"
   },
   "outputs": [
    {
     "data": {
      "text/plain": [
       "1"
      ]
     },
     "execution_count": 98,
     "metadata": {
      "tags": []
     },
     "output_type": "execute_result"
    }
   ],
   "source": [
    "algorithm.count('Neural')"
   ]
  },
  {
   "cell_type": "code",
   "execution_count": null,
   "metadata": {
    "colab": {
     "base_uri": "https://localhost:8080/"
    },
    "id": "nvHrSXJRmr2h",
    "outputId": "48ed1678-1e80-4817-92b4-ab9659336b18"
   },
   "outputs": [
    {
     "data": {
      "text/plain": [
       "0"
      ]
     },
     "execution_count": 99,
     "metadata": {
      "tags": []
     },
     "output_type": "execute_result"
    }
   ],
   "source": [
    "algorithm.count('Neurla')"
   ]
  },
  {
   "cell_type": "markdown",
   "metadata": {
    "id": "YPKnWGBFmr2k"
   },
   "source": [
    "### <code>find()</code> \n",
    "\n",
    "* <code>find()</code> method returns the index of the first occurrence of a string present in a given string. Similar to the <code>count()</code> method, the <code>find()</code> method takes a string as an argument"
   ]
  },
  {
   "cell_type": "code",
   "execution_count": 80,
   "metadata": {
    "colab": {
     "base_uri": "https://localhost:8080/"
    },
    "id": "GfkJ9pWbt5AU",
    "outputId": "5117d5f1-a711-4794-caab-3aaabae4f7a3"
   },
   "outputs": [
    {
     "name": "stdout",
     "output_type": "stream",
     "text": [
      "Neural Networks\n"
     ]
    }
   ],
   "source": [
    "print(algorithm)"
   ]
  },
  {
   "cell_type": "code",
   "execution_count": 81,
   "metadata": {
    "colab": {
     "base_uri": "https://localhost:8080/"
    },
    "id": "ILyYqHUnmr2k",
    "outputId": "954e2ab0-2413-482c-a82f-cf7ae94cd27b"
   },
   "outputs": [
    {
     "data": {
      "text/plain": [
       "1"
      ]
     },
     "execution_count": 81,
     "metadata": {},
     "output_type": "execute_result"
    }
   ],
   "source": [
    "algorithm.find('e')"
   ]
  },
  {
   "cell_type": "code",
   "execution_count": 82,
   "metadata": {
    "colab": {
     "base_uri": "https://localhost:8080/"
    },
    "id": "8cGFl7nEmr2n",
    "outputId": "323abc8f-366f-4fc7-f3e9-4cfee4c076c9"
   },
   "outputs": [
    {
     "data": {
      "text/plain": [
       "0"
      ]
     },
     "execution_count": 82,
     "metadata": {},
     "output_type": "execute_result"
    }
   ],
   "source": [
    "algorithm.find('Neural')"
   ]
  },
  {
   "cell_type": "code",
   "execution_count": null,
   "metadata": {
    "colab": {
     "base_uri": "https://localhost:8080/"
    },
    "id": "eCSKV08mmr2q",
    "outputId": "b7ea4ce9-98d3-4221-8dcd-6da9c52d47d8"
   },
   "outputs": [
    {
     "data": {
      "text/plain": [
       "-1"
      ]
     },
     "execution_count": 103,
     "metadata": {
      "tags": []
     },
     "output_type": "execute_result"
    }
   ],
   "source": [
    "algorithm.find('Box')"
   ]
  },
  {
   "cell_type": "markdown",
   "metadata": {
    "id": "QnIAoEnEmr2t"
   },
   "source": [
    "* <u>An important point to note here is that if the string which you are looking for, is not contained in the original string, then the find method will return a value of -1 </u>"
   ]
  },
  {
   "cell_type": "markdown",
   "metadata": {
    "id": "-Q_dsma-mr2t"
   },
   "source": [
    "### <code>replace()</code> \n",
    "\n",
    "*  <code>replace()</code> method takes two arguments - (i) the string to replace and (ii) the string to replace with, and returns a modified string after the operation"
   ]
  },
  {
   "cell_type": "code",
   "execution_count": 83,
   "metadata": {
    "colab": {
     "base_uri": "https://localhost:8080/"
    },
    "id": "9X7rqsDnRyiX",
    "outputId": "ae5ce54e-915b-4d39-a716-dc289baa0572"
   },
   "outputs": [
    {
     "name": "stdout",
     "output_type": "stream",
     "text": [
      "Neural Networks\n"
     ]
    }
   ],
   "source": [
    "print(algorithm)"
   ]
  },
  {
   "cell_type": "code",
   "execution_count": 84,
   "metadata": {
    "colab": {
     "base_uri": "https://localhost:8080/",
     "height": 34
    },
    "id": "rnokQ_6kmr2u",
    "outputId": "f953896e-d73e-4150-c4e7-caf69caaea3c"
   },
   "outputs": [
    {
     "data": {
      "text/plain": [
       "'Neural-Networks'"
      ]
     },
     "execution_count": 84,
     "metadata": {},
     "output_type": "execute_result"
    }
   ],
   "source": [
    "algorithm.replace(' ','-')"
   ]
  },
  {
   "cell_type": "code",
   "execution_count": 87,
   "metadata": {
    "colab": {
     "base_uri": "https://localhost:8080/",
     "height": 34
    },
    "id": "9x114Rapmr2w",
    "outputId": "44dddaea-9e74-449c-ff88-ebef432aff31"
   },
   "outputs": [
    {
     "data": {
      "text/plain": [
       "'Leural Letworks'"
      ]
     },
     "execution_count": 87,
     "metadata": {},
     "output_type": "execute_result"
    }
   ],
   "source": [
    "algorithm.replace('N','L')"
   ]
  },
  {
   "cell_type": "code",
   "execution_count": 88,
   "metadata": {
    "colab": {
     "base_uri": "https://localhost:8080/",
     "height": 34
    },
    "id": "djxLa2-Hmr2z",
    "outputId": "3a374470-a11f-4f97-f148-e4e2b7a2b52b"
   },
   "outputs": [
    {
     "name": "stdout",
     "output_type": "stream",
     "text": [
      "Neural Networks\n"
     ]
    }
   ],
   "source": [
    "print(algorithm)"
   ]
  },
  {
   "cell_type": "markdown",
   "metadata": {
    "id": "s2Mh-mbimr22"
   },
   "source": [
    "* <u>Another important point worth noting here is applying any method on a string does not actually change the original string. For example, when you print out the algorithm string, it still contains the original value 'Neural Networks'</u>\n",
    "\n",
    "\n",
    "* <u> We need to store the modified string in another variable"
   ]
  },
  {
   "cell_type": "code",
   "execution_count": 89,
   "metadata": {
    "colab": {
     "base_uri": "https://localhost:8080/"
    },
    "id": "tW013YBJmr22",
    "outputId": "cd8cc1b4-ee4e-4ba8-f858-d0dcb23a1f9c"
   },
   "outputs": [
    {
     "name": "stdout",
     "output_type": "stream",
     "text": [
      "Artificial Neural Networks\n",
      "Neural Networks\n"
     ]
    }
   ],
   "source": [
    "# Storing the modified string\n",
    "algorithm_revised  = algorithm.replace('Neural','Artificial Neural')\n",
    "print(algorithm_revised)\n",
    "print(algorithm)"
   ]
  },
  {
   "cell_type": "markdown",
   "metadata": {
    "id": "uOh2_4hKmr24"
   },
   "source": [
    "### Printing strings a bit differently"
   ]
  },
  {
   "cell_type": "code",
   "execution_count": null,
   "metadata": {
    "colab": {
     "base_uri": "https://localhost:8080/"
    },
    "id": "AJjdr5ghmr24",
    "outputId": "8725a50c-b976-477e-bf3f-2c67468f8fd7"
   },
   "outputs": [
    {
     "name": "stdout",
     "output_type": "stream",
     "text": [
      "Left plus right makes Rahul  Modi\n"
     ]
    }
   ],
   "source": [
    "first_name = 'Rahul'\n",
    "last_name = 'Modi'\n",
    "\n",
    "full_name = f'Left plus right makes {first_name}  {last_name}'  # Use {} to print the variable you want to\n",
    "print(full_name)"
   ]
  },
  {
   "cell_type": "code",
   "execution_count": null,
   "metadata": {
    "colab": {
     "base_uri": "https://localhost:8080/",
     "height": 34
    },
    "id": "K-p0nqpjwANZ",
    "outputId": "32dd6355-b248-41b0-c333-afb246458475"
   },
   "outputs": [
    {
     "name": "stdout",
     "output_type": "stream",
     "text": [
      "Rahul Modi\n"
     ]
    }
   ],
   "source": [
    "print(first_name + ' '+last_name)"
   ]
  },
  {
   "cell_type": "code",
   "execution_count": null,
   "metadata": {
    "id": "qIHd9TJ_RTZs"
   },
   "outputs": [],
   "source": []
  },
  {
   "cell_type": "code",
   "execution_count": 91,
   "metadata": {
    "colab": {
     "base_uri": "https://localhost:8080/"
    },
    "id": "2CR9yok8mr29",
    "outputId": "170ed227-7dce-44e8-9d13-83e99fcfffbc"
   },
   "outputs": [
    {
     "name": "stdout",
     "output_type": "stream",
     "text": [
      "I am none other than Vikash Srivastava. I am a Data Scientist\n"
     ]
    }
   ],
   "source": [
    "first_name = 'Vikash'\n",
    "middle_name = ''\n",
    "last_name = 'Srivastava'\n",
    "\n",
    "full_name = f'I am none other than {first_name} {middle_name}{last_name}. I am a Data Scientist'\n",
    "print(full_name)"
   ]
  },
  {
   "cell_type": "code",
   "execution_count": 92,
   "metadata": {
    "colab": {
     "base_uri": "https://localhost:8080/"
    },
    "id": "lXeN8B21TyZW",
    "outputId": "69692b3e-3d8d-463b-af38-4cb9b8fb002b"
   },
   "outputs": [
    {
     "name": "stdout",
     "output_type": "stream",
     "text": [
      "I am none other than Vikash Srivastava. I am a Data Scientist\n"
     ]
    }
   ],
   "source": [
    "print(f'I am none other than {first_name} {middle_name}{last_name}. I am a Data Scientist')"
   ]
  },
  {
   "cell_type": "markdown",
   "metadata": {
    "id": "B6x3RSMkmr3A"
   },
   "source": [
    "### Check if a string contains a particular word or character"
   ]
  },
  {
   "cell_type": "code",
   "execution_count": 93,
   "metadata": {
    "id": "gxoRht92mr3A"
   },
   "outputs": [],
   "source": [
    "my_string = 'Albert Einstein'"
   ]
  },
  {
   "cell_type": "code",
   "execution_count": 94,
   "metadata": {
    "colab": {
     "base_uri": "https://localhost:8080/"
    },
    "id": "NrXXZLYsxNlT",
    "outputId": "2269b32c-829e-4f02-cc0e-58db1eb478cb"
   },
   "outputs": [
    {
     "data": {
      "text/plain": [
       "True"
      ]
     },
     "execution_count": 94,
     "metadata": {},
     "output_type": "execute_result"
    }
   ],
   "source": [
    "'Albert' in my_string"
   ]
  },
  {
   "cell_type": "code",
   "execution_count": 95,
   "metadata": {
    "colab": {
     "base_uri": "https://localhost:8080/"
    },
    "id": "mlMC_fR5UPmK",
    "outputId": "11d444d0-a7d5-4a6d-e25e-8e42d012de84"
   },
   "outputs": [
    {
     "data": {
      "text/plain": [
       "False"
      ]
     },
     "execution_count": 95,
     "metadata": {},
     "output_type": "execute_result"
    }
   ],
   "source": [
    "'Alberta' in my_string"
   ]
  },
  {
   "cell_type": "code",
   "execution_count": null,
   "metadata": {
    "id": "yaicv9mBUS_R"
   },
   "outputs": [],
   "source": []
  }
 ],
 "metadata": {
  "colab": {
   "collapsed_sections": [
    "6XqIFlaYmr1H",
    "EhEAYjRnmr1U",
    "03n7vTXRmr2E",
    "cF2zYtzdmr2G",
    "Uk9EwCKRmr2L",
    "ikQx6g8tmr2P",
    "YPKnWGBFmr2k",
    "-Q_dsma-mr2t",
    "uOh2_4hKmr24",
    "B6x3RSMkmr3A"
   ],
   "name": "Introduction to Strings.ipynb",
   "provenance": []
  },
  "kernelspec": {
   "display_name": "Python 3",
   "language": "python",
   "name": "python3"
  },
  "language_info": {
   "codemirror_mode": {
    "name": "ipython",
    "version": 3
   },
   "file_extension": ".py",
   "mimetype": "text/x-python",
   "name": "python",
   "nbconvert_exporter": "python",
   "pygments_lexer": "ipython3",
   "version": "3.8.8"
  }
 },
 "nbformat": 4,
 "nbformat_minor": 1
}
