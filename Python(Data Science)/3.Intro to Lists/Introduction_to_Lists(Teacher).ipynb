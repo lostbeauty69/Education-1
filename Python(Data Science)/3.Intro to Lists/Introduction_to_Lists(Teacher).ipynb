{
 "cells": [
  {
   "cell_type": "markdown",
   "metadata": {
    "id": "t1KX9ExluH05"
   },
   "source": [
    "### Earlier when discussing strings we introduced the concept of a <u>sequence</u> in Python. \n",
    "* <u>Lists</u> can be thought of the most general version of a *sequence* in Python. \n",
    "\n",
    "\n",
    "* Unlike strings, they are mutable, meaning the elements inside a list can be changed! \n",
    "\n",
    "\n",
    "* Lists are constructed with brackets <code>[]</code> and commas separating every element in the list."
   ]
  },
  {
   "cell_type": "code",
   "execution_count": 1,
   "metadata": {
    "id": "zJALgXvTuH06"
   },
   "outputs": [],
   "source": [
    "# Assign a list to an variable named my_list\n",
    "my_list = [1,2,3,4]"
   ]
  },
  {
   "cell_type": "code",
   "execution_count": 2,
   "metadata": {
    "colab": {
     "base_uri": "https://localhost:8080/"
    },
    "id": "5iyxPTQEuH1A",
    "outputId": "2c8f39c1-8ef6-45f3-8f0d-b88b37833bf3"
   },
   "outputs": [
    {
     "name": "stdout",
     "output_type": "stream",
     "text": [
      "[1, 2, 3, 4]\n"
     ]
    }
   ],
   "source": [
    "print(my_list)"
   ]
  },
  {
   "cell_type": "code",
   "execution_count": 3,
   "metadata": {
    "colab": {
     "base_uri": "https://localhost:8080/"
    },
    "id": "Iwcih5WkuH1F",
    "outputId": "830dad68-a4a2-4bb0-bc41-617bcd516a49"
   },
   "outputs": [
    {
     "data": {
      "text/plain": [
       "list"
      ]
     },
     "execution_count": 3,
     "metadata": {},
     "output_type": "execute_result"
    }
   ],
   "source": [
    "type(my_list)"
   ]
  },
  {
   "cell_type": "markdown",
   "metadata": {
    "id": "GixOgR0xuH1K"
   },
   "source": [
    "* We just created a list of integers, but lists can actually hold different object types. For example:"
   ]
  },
  {
   "cell_type": "code",
   "execution_count": 6,
   "metadata": {
    "id": "iYwuNSr5uH1L"
   },
   "outputs": [
    {
     "data": {
      "text/plain": [
       "['A string', 23, 100.232, 'o', True]"
      ]
     },
     "execution_count": 6,
     "metadata": {},
     "output_type": "execute_result"
    }
   ],
   "source": [
    "my_list = ['A string',23,100.232,'o',True]\n",
    "my_list"
   ]
  },
  {
   "cell_type": "markdown",
   "metadata": {
    "id": "KC7536WDuH1W"
   },
   "source": [
    "* Just like strings, the <code>len()</code> function will tell you how many items are in the sequence of the list."
   ]
  },
  {
   "cell_type": "code",
   "execution_count": 7,
   "metadata": {
    "colab": {
     "base_uri": "https://localhost:8080/"
    },
    "id": "9c8rQF1ZuH1X",
    "outputId": "226b1234-5b4e-4eef-93eb-77a69857653f"
   },
   "outputs": [
    {
     "data": {
      "text/plain": [
       "5"
      ]
     },
     "execution_count": 7,
     "metadata": {},
     "output_type": "execute_result"
    }
   ],
   "source": [
    "len(my_list)"
   ]
  },
  {
   "cell_type": "markdown",
   "metadata": {
    "id": "GOoGqqK9uH1c"
   },
   "source": [
    "## List Indexing\n",
    "* Indexing work just like in strings.\n",
    "\n",
    "\n",
    "* A list index refers to the location of an element in a list.\n",
    "\n",
    "\n",
    "* Remember the indexing begins from 0 in Python. \n",
    "\n",
    "\n",
    "* The first element is assigned an index 0, the second element is assigned an index of 1 and so on and so forth."
   ]
  },
  {
   "cell_type": "code",
   "execution_count": 3,
   "metadata": {
    "colab": {
     "base_uri": "https://localhost:8080/"
    },
    "id": "h8kC051iuH1e",
    "outputId": "b213f686-6a71-4fb4-b12f-03a78506c14e"
   },
   "outputs": [
    {
     "name": "stdout",
     "output_type": "stream",
     "text": [
      "['Mean Absolute Error', 'Mean Squared Error', 'Huber Loss', 'Log Loss', 'Hinge Loss']\n"
     ]
    }
   ],
   "source": [
    "# Consider a list of strings\n",
    "loss_functions = ['Mean Absolute Error','Mean Squared Error','Huber Loss','Log Loss','Hinge Loss']\n",
    "print(loss_functions)"
   ]
  },
  {
   "cell_type": "code",
   "execution_count": 9,
   "metadata": {
    "colab": {
     "base_uri": "https://localhost:8080/"
    },
    "id": "9Rjv4sHZuH1k",
    "outputId": "62d7f0f7-dec7-49b2-b972-31b474a6e326"
   },
   "outputs": [
    {
     "name": "stdout",
     "output_type": "stream",
     "text": [
      "Mean Absolute Error\n"
     ]
    }
   ],
   "source": [
    "# Grab the element at index 0, which is the FIRST element\n",
    "print(loss_functions[0])"
   ]
  },
  {
   "cell_type": "code",
   "execution_count": 10,
   "metadata": {
    "colab": {
     "base_uri": "https://localhost:8080/"
    },
    "id": "wkqGy2G-HcFP",
    "outputId": "55e4ca48-87d0-49f8-9436-65aa7ef5acf8"
   },
   "outputs": [
    {
     "data": {
      "text/plain": [
       "5"
      ]
     },
     "execution_count": 10,
     "metadata": {},
     "output_type": "execute_result"
    }
   ],
   "source": [
    "len(loss_functions)"
   ]
  },
  {
   "cell_type": "code",
   "execution_count": 11,
   "metadata": {
    "colab": {
     "base_uri": "https://localhost:8080/"
    },
    "id": "wy6j6RQluH1q",
    "outputId": "bc123bcc-19e6-454c-8ae6-633c5b1d54af"
   },
   "outputs": [
    {
     "name": "stdout",
     "output_type": "stream",
     "text": [
      "Log Loss\n"
     ]
    }
   ],
   "source": [
    "# Grab the element at index 3, which is the FOURTH element\n",
    "print(loss_functions[3])"
   ]
  },
  {
   "cell_type": "code",
   "execution_count": 12,
   "metadata": {
    "colab": {
     "base_uri": "https://localhost:8080/"
    },
    "id": "XWYhPYWJuH1w",
    "outputId": "45534bd4-0b73-4a82-d2bf-efce0787a5ec"
   },
   "outputs": [
    {
     "name": "stdout",
     "output_type": "stream",
     "text": [
      "Hinge Loss\n"
     ]
    }
   ],
   "source": [
    "# Grab the element at the index -1, which is the LAST element\n",
    "print(loss_functions[-1])"
   ]
  },
  {
   "cell_type": "code",
   "execution_count": 13,
   "metadata": {
    "colab": {
     "base_uri": "https://localhost:8080/"
    },
    "id": "qVDZolzXuH11",
    "outputId": "1e924215-8b22-4e7a-cc50-4ac55ad850c4"
   },
   "outputs": [
    {
     "name": "stdout",
     "output_type": "stream",
     "text": [
      "Huber Loss\n"
     ]
    }
   ],
   "source": [
    "# Grab the element at the index -3, which is the THIRD LAST element\n",
    "print(loss_functions[-3])"
   ]
  },
  {
   "cell_type": "code",
   "execution_count": 14,
   "metadata": {
    "colab": {
     "base_uri": "https://localhost:8080/"
    },
    "id": "-tHFOfz_rXik",
    "outputId": "cbafb548-dee7-422e-bc06-413dff3c0dec"
   },
   "outputs": [
    {
     "name": "stdout",
     "output_type": "stream",
     "text": [
      "['Mean Absolute Error', 'Mean Squared Error', 'Huber Loss', 'Log Loss', 'Hinge Loss']\n"
     ]
    }
   ],
   "source": [
    "print(loss_functions)"
   ]
  },
  {
   "cell_type": "code",
   "execution_count": 19,
   "metadata": {
    "id": "1ZsfMmxara7p"
   },
   "outputs": [
    {
     "name": "stdout",
     "output_type": "stream",
     "text": [
      "['Mean Absolute Error', 'Mean Squared Error', 'Huber Loss', 'Log Loss']\n"
     ]
    }
   ],
   "source": [
    "#[Start:Stop:Step]  start-include, stop-exclude\n",
    "print(loss_functions[0:4:1])"
   ]
  },
  {
   "cell_type": "code",
   "execution_count": 15,
   "metadata": {},
   "outputs": [
    {
     "name": "stdout",
     "output_type": "stream",
     "text": [
      "['Mean Squared Error', 'Huber Loss', 'Log Loss']\n"
     ]
    }
   ],
   "source": [
    "print(loss_functions[1:4:1])"
   ]
  },
  {
   "cell_type": "code",
   "execution_count": 22,
   "metadata": {},
   "outputs": [
    {
     "name": "stdout",
     "output_type": "stream",
     "text": [
      "['Mean Absolute Error', 'Mean Squared Error', 'Huber Loss', 'Log Loss', 'Hinge Loss']\n"
     ]
    }
   ],
   "source": [
    "print(loss_functions)"
   ]
  },
  {
   "cell_type": "code",
   "execution_count": 27,
   "metadata": {},
   "outputs": [
    {
     "name": "stdout",
     "output_type": "stream",
     "text": [
      "['Mean Absolute Error', 'Huber Loss', 'Hinge Loss']\n"
     ]
    }
   ],
   "source": [
    "print(loss_functions[0:5:2])"
   ]
  },
  {
   "cell_type": "code",
   "execution_count": 28,
   "metadata": {},
   "outputs": [
    {
     "name": "stdout",
     "output_type": "stream",
     "text": [
      "['Mean Absolute Error', 'Log Loss']\n"
     ]
    }
   ],
   "source": [
    "print(loss_functions[0:5:3])"
   ]
  },
  {
   "cell_type": "markdown",
   "metadata": {
    "id": "VyvYPGtYuH16"
   },
   "source": [
    "## List Slicing\n",
    "\n",
    "* We can use a <code>:</code> to perform *slicing* which grabs everything up to a designated point. \n",
    "\n",
    "\n",
    "* The starting index is specified on the left of the <code>:</code> and the ending index is specified on the right of the <code>:</code>. \n",
    "\n",
    "\n",
    "* Remember the element located at the right index is not included."
   ]
  },
  {
   "cell_type": "code",
   "execution_count": 4,
   "metadata": {
    "colab": {
     "base_uri": "https://localhost:8080/"
    },
    "id": "rJpgJdnauH16",
    "outputId": "9e1d6e3a-a83d-4ec2-826e-7823297d8f8f"
   },
   "outputs": [
    {
     "name": "stdout",
     "output_type": "stream",
     "text": [
      "['Mean Absolute Error', 'Mean Squared Error', 'Huber Loss', 'Log Loss', 'Hinge Loss']\n"
     ]
    }
   ],
   "source": [
    "# Print our list\n",
    "print(loss_functions)"
   ]
  },
  {
   "cell_type": "code",
   "execution_count": 30,
   "metadata": {
    "colab": {
     "base_uri": "https://localhost:8080/"
    },
    "id": "qkMHWOjpuH1_",
    "outputId": "74aedd8a-4f38-4c43-a905-99d14685febc"
   },
   "outputs": [
    {
     "data": {
      "text/plain": [
       "['Mean Squared Error', 'Huber Loss', 'Log Loss']"
      ]
     },
     "execution_count": 30,
     "metadata": {},
     "output_type": "execute_result"
    }
   ],
   "source": [
    "# Grab the elements starting from index 1 and everything past it\n",
    "loss_functions[1:4]"
   ]
  },
  {
   "cell_type": "markdown",
   "metadata": {
    "id": "tRWJVhSPuH2G"
   },
   "source": [
    "* If you do not specify the ending index, then all elements are extracted which comes after the starting index including the element at that starting index. The operation knows only to stop when it has run through the entire list."
   ]
  },
  {
   "cell_type": "code",
   "execution_count": 31,
   "metadata": {
    "colab": {
     "base_uri": "https://localhost:8080/"
    },
    "id": "9-210b6YuH2H",
    "outputId": "9f0b5ad0-382c-4174-f066-a8dfc69cbcd1"
   },
   "outputs": [
    {
     "data": {
      "text/plain": [
       "['Huber Loss', 'Log Loss', 'Hinge Loss']"
      ]
     },
     "execution_count": 31,
     "metadata": {},
     "output_type": "execute_result"
    }
   ],
   "source": [
    "# Grab everything starting from index 2\n",
    "loss_functions[2:]"
   ]
  },
  {
   "cell_type": "markdown",
   "metadata": {
    "id": "X6H8XIIZuH2M"
   },
   "source": [
    "* If you do not specify the starting index, then all elements are extracted which comes befores the ending index excluding the element at the specified ending index. The operation knows only to stop when it has extracted all elements before the  element at the ending index."
   ]
  },
  {
   "cell_type": "code",
   "execution_count": 22,
   "metadata": {
    "colab": {
     "base_uri": "https://localhost:8080/"
    },
    "id": "gXOUdFsAqkZT",
    "outputId": "955e1ed4-f4f8-42cf-dd8c-72b4b9601667"
   },
   "outputs": [
    {
     "name": "stdout",
     "output_type": "stream",
     "text": [
      "['Mean Absolute Error', 'Mean Squared Error', 'Huber Loss', 'Log Loss', 'Hinge Loss']\n"
     ]
    }
   ],
   "source": [
    "print(loss_functions)"
   ]
  },
  {
   "cell_type": "code",
   "execution_count": 23,
   "metadata": {
    "colab": {
     "base_uri": "https://localhost:8080/"
    },
    "id": "OzsSfMJwuH2M",
    "outputId": "c32e8f9e-5142-4d9b-c800-3f08e8b89655"
   },
   "outputs": [
    {
     "data": {
      "text/plain": [
       "['Mean Absolute Error', 'Mean Squared Error', 'Huber Loss', 'Log Loss']"
      ]
     },
     "execution_count": 23,
     "metadata": {},
     "output_type": "execute_result"
    }
   ],
   "source": [
    "# Grab everything before the index 4\n",
    "loss_functions[:4]"
   ]
  },
  {
   "cell_type": "markdown",
   "metadata": {
    "id": "AzM1gvHxuH2R"
   },
   "source": [
    "* If you do not specify the starting and the ending index, it will extract all elements of the list."
   ]
  },
  {
   "cell_type": "code",
   "execution_count": 32,
   "metadata": {
    "colab": {
     "base_uri": "https://localhost:8080/"
    },
    "id": "UvgZ2Oi7uH2S",
    "outputId": "0ee6e1fb-c8d7-47a7-d3e0-b9fe2a3df1ad"
   },
   "outputs": [
    {
     "name": "stdout",
     "output_type": "stream",
     "text": [
      "['Mean Absolute Error', 'Mean Squared Error', 'Huber Loss', 'Log Loss', 'Hinge Loss']\n"
     ]
    }
   ],
   "source": [
    "# Grab everything\n",
    "print(loss_functions[:])"
   ]
  },
  {
   "cell_type": "markdown",
   "metadata": {
    "id": "JZCjIP2wuH2Y"
   },
   "source": [
    "* We can also extract the last four elements. Remember we can use the index -4 to extract the FOURTH LAST element"
   ]
  },
  {
   "cell_type": "code",
   "execution_count": 34,
   "metadata": {
    "colab": {
     "base_uri": "https://localhost:8080/"
    },
    "id": "HO6uu_J3uH2Z",
    "outputId": "f5f299f3-8957-4d51-dc99-bc27906e7b4b"
   },
   "outputs": [
    {
     "data": {
      "text/plain": [
       "['Mean Squared Error', 'Huber Loss', 'Log Loss', 'Hinge Loss']"
      ]
     },
     "execution_count": 34,
     "metadata": {},
     "output_type": "execute_result"
    }
   ],
   "source": [
    "# Grab the LAST FOUR elements of the list\n",
    "loss_functions[-4:]"
   ]
  },
  {
   "cell_type": "code",
   "execution_count": 28,
   "metadata": {
    "colab": {
     "base_uri": "https://localhost:8080/",
     "height": 166
    },
    "id": "HhClfN4JoYHm",
    "outputId": "fa1f258f-ccf3-4851-b7cf-7d5f86ff021b"
   },
   "outputs": [
    {
     "ename": "IndexError",
     "evalue": "ignored",
     "output_type": "error",
     "traceback": [
      "\u001b[0;31m---------------------------------------------------------------------------\u001b[0m",
      "\u001b[0;31mIndexError\u001b[0m                                Traceback (most recent call last)",
      "\u001b[0;32m<ipython-input-28-8a581720341d>\u001b[0m in \u001b[0;36m<module>\u001b[0;34m()\u001b[0m\n\u001b[0;32m----> 1\u001b[0;31m \u001b[0mloss_functions\u001b[0m\u001b[0;34m[\u001b[0m\u001b[0;34m-\u001b[0m\u001b[0;36m10\u001b[0m\u001b[0;34m]\u001b[0m\u001b[0;34m\u001b[0m\u001b[0;34m\u001b[0m\u001b[0m\n\u001b[0m",
      "\u001b[0;31mIndexError\u001b[0m: list index out of range"
     ]
    }
   ],
   "source": [
    "loss_functions[-10]"
   ]
  },
  {
   "cell_type": "markdown",
   "metadata": {
    "id": "MFMJCkLtuH2e"
   },
   "source": [
    "* It should also be noted that list indexing will return an error if there is no element at that index."
   ]
  },
  {
   "cell_type": "code",
   "execution_count": 35,
   "metadata": {
    "colab": {
     "base_uri": "https://localhost:8080/"
    },
    "id": "ubVmh9dpuH2f",
    "outputId": "c7be56e2-dde4-4e79-b3bb-b25e2f3f3ca1"
   },
   "outputs": [
    {
     "data": {
      "text/plain": [
       "5"
      ]
     },
     "execution_count": 35,
     "metadata": {},
     "output_type": "execute_result"
    }
   ],
   "source": [
    "len(loss_functions)"
   ]
  },
  {
   "cell_type": "code",
   "execution_count": 40,
   "metadata": {
    "colab": {
     "base_uri": "https://localhost:8080/"
    },
    "id": "8SzwVKLGrvFU",
    "outputId": "eff38c0d-57ed-4755-9250-05b474e50e4e"
   },
   "outputs": [
    {
     "name": "stdout",
     "output_type": "stream",
     "text": [
      "['Mean Absolute Error', 'Mean Squared Error', 'Huber Loss', 'Log Loss', 'Hinge Loss']\n"
     ]
    }
   ],
   "source": [
    "print(loss_functions[0:10])"
   ]
  },
  {
   "cell_type": "markdown",
   "metadata": {},
   "source": [
    "CHECK VIDEO FROM 01:08:22"
   ]
  },
  {
   "cell_type": "code",
   "execution_count": 38,
   "metadata": {},
   "outputs": [
    {
     "name": "stdout",
     "output_type": "stream",
     "text": [
      "['Mean Absolute Error', 'Mean Squared Error', 'Huber Loss', 'Log Loss', 'Hinge Loss']\n"
     ]
    }
   ],
   "source": [
    "print(loss_functions)"
   ]
  },
  {
   "cell_type": "markdown",
   "metadata": {},
   "source": [
    "General thumb rule that if it's a negtaive indexing your start index should gretaer than the ending index"
   ]
  },
  {
   "cell_type": "code",
   "execution_count": 5,
   "metadata": {
    "colab": {
     "base_uri": "https://localhost:8080/"
    },
    "id": "Qo8ATq7esI5w",
    "outputId": "7eda7686-9676-4a13-b694-43b67bcd1b96"
   },
   "outputs": [
    {
     "name": "stdout",
     "output_type": "stream",
     "text": [
      "['Hinge Loss', 'Huber Loss', 'Mean Absolute Error']\n"
     ]
    }
   ],
   "source": [
    "print(loss_functions[-1:-6:-2])"
   ]
  },
  {
   "cell_type": "code",
   "execution_count": 6,
   "metadata": {},
   "outputs": [
    {
     "name": "stdout",
     "output_type": "stream",
     "text": [
      "['Hinge Loss', 'Huber Loss']\n"
     ]
    }
   ],
   "source": [
    "print(loss_functions[-1:-5:-2])"
   ]
  },
  {
   "cell_type": "code",
   "execution_count": 7,
   "metadata": {
    "colab": {
     "base_uri": "https://localhost:8080/"
    },
    "id": "LvIQRt8btg0T",
    "outputId": "2c55e047-c107-4351-8178-9e58875037ac"
   },
   "outputs": [
    {
     "name": "stdout",
     "output_type": "stream",
     "text": [
      "['Hinge Loss', 'Log Loss', 'Huber Loss', 'Mean Squared Error', 'Mean Absolute Error']\n"
     ]
    }
   ],
   "source": [
    "#Given a list write me a method to reverse the list without using any third variable?\n",
    "print(loss_functions[::-1])"
   ]
  },
  {
   "cell_type": "code",
   "execution_count": 34,
   "metadata": {
    "colab": {
     "base_uri": "https://localhost:8080/"
    },
    "id": "APTsjFSZry6M",
    "outputId": "685494f2-8796-41d5-d019-332211533667"
   },
   "outputs": [
    {
     "name": "stdout",
     "output_type": "stream",
     "text": [
      "['Hinge Loss', 'Log Loss', 'Huber Loss']\n"
     ]
    }
   ],
   "source": [
    "print(loss_functions[])"
   ]
  },
  {
   "cell_type": "markdown",
   "metadata": {},
   "source": [
    "List Operations\n",
    "Remember we said that lists are mutable as opposed to strings. Lets see how we change the elements of a list"
   ]
  },
  {
   "cell_type": "markdown",
   "metadata": {
    "id": "fDoYdXjFuH24"
   },
   "source": [
    "* We can also use <code>+</code> to concatenate lists, just like we did for strings."
   ]
  },
  {
   "cell_type": "code",
   "execution_count": 45,
   "metadata": {
    "colab": {
     "base_uri": "https://localhost:8080/"
    },
    "id": "49GL6IOAqQCe",
    "outputId": "924607e6-2ed7-4f5d-c4ab-09754b40af29"
   },
   "outputs": [
    {
     "name": "stdout",
     "output_type": "stream",
     "text": [
      "['Mean Absolute Error', 'Mean Squared Error', 'Huber Loss', 'Log Loss', 'Hinge Loss']\n"
     ]
    }
   ],
   "source": [
    "print(loss_functions)"
   ]
  },
  {
   "cell_type": "code",
   "execution_count": 47,
   "metadata": {
    "colab": {
     "base_uri": "https://localhost:8080/"
    },
    "id": "j0F-jFkmvIz3",
    "outputId": "278386e4-2c7b-49fc-d18a-1489389b9522"
   },
   "outputs": [
    {
     "data": {
      "text/plain": [
       "4"
      ]
     },
     "execution_count": 47,
     "metadata": {},
     "output_type": "execute_result"
    }
   ],
   "source": [
    "2 + 2"
   ]
  },
  {
   "cell_type": "code",
   "execution_count": 48,
   "metadata": {
    "colab": {
     "base_uri": "https://localhost:8080/",
     "height": 35
    },
    "id": "m_1IA-cjvLQc",
    "outputId": "1f56f7b1-0925-454e-9b1b-f3196941f0b5"
   },
   "outputs": [
    {
     "data": {
      "application/vnd.google.colaboratory.intrinsic+json": {
       "type": "string"
      },
      "text/plain": [
       "'abccde'"
      ]
     },
     "execution_count": 48,
     "metadata": {},
     "output_type": "execute_result"
    }
   ],
   "source": [
    "'abc' + 'cde'"
   ]
  },
  {
   "cell_type": "code",
   "execution_count": 9,
   "metadata": {
    "colab": {
     "base_uri": "https://localhost:8080/"
    },
    "id": "V0Oc6-O8uH25",
    "outputId": "f189a383-7a9a-488d-ccb4-0d5090f62420"
   },
   "outputs": [
    {
     "data": {
      "text/plain": [
       "['Mean Absolute Error',\n",
       " 'Mean Squared Error',\n",
       " 'Huber Loss',\n",
       " 'Log Loss',\n",
       " 'Hinge Loss',\n",
       " 'Kullback-Leibler']"
      ]
     },
     "execution_count": 9,
     "metadata": {},
     "output_type": "execute_result"
    }
   ],
   "source": [
    "loss_functions + ['Kullback-Leibler']"
   ]
  },
  {
   "cell_type": "markdown",
   "metadata": {
    "id": "_R2ARrFsuH2-"
   },
   "source": [
    "* Note: This doesn't actually change the original list!"
   ]
  },
  {
   "cell_type": "code",
   "execution_count": null,
   "metadata": {
    "colab": {
     "base_uri": "https://localhost:8080/"
    },
    "id": "FiZFhSgMuH3A",
    "outputId": "c8ef487d-2c56-4d52-c307-a6b39ebca887",
    "scrolled": true
   },
   "outputs": [
    {
     "name": "stdout",
     "output_type": "stream",
     "text": [
      "['Mean Absolute Error', 'Mean Squared Error', 'Huber Loss', 'Log Loss', 'Hinge Loss']\n"
     ]
    }
   ],
   "source": [
    "print(loss_functions)"
   ]
  },
  {
   "cell_type": "markdown",
   "metadata": {
    "id": "9BC_N9XIuH3E"
   },
   "source": [
    "* You would have to reassign the list to make the change permanent."
   ]
  },
  {
   "cell_type": "code",
   "execution_count": 50,
   "metadata": {
    "id": "rrAKgXGkuH3E"
   },
   "outputs": [],
   "source": [
    "# Reassign\n",
    "loss_functions = loss_functions + ['Kullback-Leibler']"
   ]
  },
  {
   "cell_type": "code",
   "execution_count": 51,
   "metadata": {
    "colab": {
     "base_uri": "https://localhost:8080/"
    },
    "id": "kB1NeeiXuH3I",
    "outputId": "9818e813-af7a-453f-e0b6-2f79f70412be"
   },
   "outputs": [
    {
     "data": {
      "text/plain": [
       "['Mean Absolute Error',\n",
       " 'Mean Squared Error',\n",
       " 'Huber Loss',\n",
       " 'Log Loss',\n",
       " 'Hinge Loss',\n",
       " 'Kullback-Leibler']"
      ]
     },
     "execution_count": 51,
     "metadata": {},
     "output_type": "execute_result"
    }
   ],
   "source": [
    "loss_functions"
   ]
  },
  {
   "cell_type": "markdown",
   "metadata": {
    "id": "kk3-UJ3RuH3N"
   },
   "source": [
    "* We can also use the <code>*</code> for a duplication method similar to strings:"
   ]
  },
  {
   "cell_type": "code",
   "execution_count": 57,
   "metadata": {
    "colab": {
     "base_uri": "https://localhost:8080/",
     "height": 166
    },
    "id": "OTOUTCY8wtE-",
    "outputId": "51f44664-462e-41dd-8a9d-6cce0ced28c3"
   },
   "outputs": [
    {
     "ename": "TypeError",
     "evalue": "ignored",
     "output_type": "error",
     "traceback": [
      "\u001b[0;31m---------------------------------------------------------------------------\u001b[0m",
      "\u001b[0;31mTypeError\u001b[0m                                 Traceback (most recent call last)",
      "\u001b[0;32m<ipython-input-57-a0a9b6117da9>\u001b[0m in \u001b[0;36m<module>\u001b[0;34m()\u001b[0m\n\u001b[0;32m----> 1\u001b[0;31m \u001b[0mloss_functions\u001b[0m \u001b[0;34m+\u001b[0m \u001b[0;36m2\u001b[0m\u001b[0;34m\u001b[0m\u001b[0;34m\u001b[0m\u001b[0m\n\u001b[0m",
      "\u001b[0;31mTypeError\u001b[0m: can only concatenate list (not \"int\") to list"
     ]
    }
   ],
   "source": [
    "loss_functions + 2"
   ]
  },
  {
   "cell_type": "code",
   "execution_count": 56,
   "metadata": {
    "colab": {
     "base_uri": "https://localhost:8080/"
    },
    "id": "b09L4hO7uH3O",
    "outputId": "09cea893-d92b-4186-a006-aca922531c4d"
   },
   "outputs": [
    {
     "data": {
      "text/plain": [
       "36"
      ]
     },
     "execution_count": 56,
     "metadata": {},
     "output_type": "execute_result"
    }
   ],
   "source": [
    "# Make the list double\n",
    "len(loss_functions * 6)"
   ]
  },
  {
   "cell_type": "markdown",
   "metadata": {
    "id": "vPF4zcaEuH3X"
   },
   "source": [
    "## List Functions"
   ]
  },
  {
   "cell_type": "markdown",
   "metadata": {
    "id": "6Qd7qKM1uH3Y"
   },
   "source": [
    "### <code>len()</code>\n",
    "\n",
    "\n",
    "* <code>len()</code> function returns the length of the list"
   ]
  },
  {
   "cell_type": "code",
   "execution_count": 58,
   "metadata": {
    "colab": {
     "base_uri": "https://localhost:8080/"
    },
    "id": "EOLMTcMvuH3Z",
    "outputId": "19c58101-9d3a-4ba2-feb5-cb0802f9814d"
   },
   "outputs": [
    {
     "name": "stdout",
     "output_type": "stream",
     "text": [
      "['Mean Absolute Error', 'Mean Squared Error', 'Huber Loss', 'Log Loss', 'Hinge Loss', 'Kullback-Leibler']\n"
     ]
    }
   ],
   "source": [
    "print(loss_functions)"
   ]
  },
  {
   "cell_type": "code",
   "execution_count": 59,
   "metadata": {
    "colab": {
     "base_uri": "https://localhost:8080/"
    },
    "id": "mNKWrF1wuH3c",
    "outputId": "77065ff4-f85f-4273-c362-04ada06e4764"
   },
   "outputs": [
    {
     "data": {
      "text/plain": [
       "6"
      ]
     },
     "execution_count": 59,
     "metadata": {},
     "output_type": "execute_result"
    }
   ],
   "source": [
    "len(loss_functions)"
   ]
  },
  {
   "cell_type": "markdown",
   "metadata": {
    "id": "p7d98KoOuH3f"
   },
   "source": [
    "### <code>min()</code>\n",
    "\n",
    "\n",
    "* <code>min()</code> function returns the minimum element of the list\n",
    "\n",
    "\n",
    "* <code>min()</code> function only works with lists of similar data types"
   ]
  },
  {
   "cell_type": "code",
   "execution_count": 60,
   "metadata": {
    "id": "wLccOV7wuH3f"
   },
   "outputs": [],
   "source": [
    "new_list = [6, 9, 1, 3, 5.5]"
   ]
  },
  {
   "cell_type": "code",
   "execution_count": 61,
   "metadata": {
    "colab": {
     "base_uri": "https://localhost:8080/"
    },
    "id": "Y2Cu7bw0uH3j",
    "outputId": "720e956f-f78b-41be-addc-2656aac4e6aa"
   },
   "outputs": [
    {
     "data": {
      "text/plain": [
       "1"
      ]
     },
     "execution_count": 61,
     "metadata": {},
     "output_type": "execute_result"
    }
   ],
   "source": [
    "min(new_list)"
   ]
  },
  {
   "cell_type": "code",
   "execution_count": 67,
   "metadata": {
    "id": "CE51jhX2Os8i"
   },
   "outputs": [],
   "source": [
    "my_new_list = ['A','b', 'Z' ,'5','y' , 'm']"
   ]
  },
  {
   "cell_type": "code",
   "execution_count": 68,
   "metadata": {
    "colab": {
     "base_uri": "https://localhost:8080/",
     "height": 35
    },
    "id": "xU0MNka-OzHv",
    "outputId": "789cc392-d30a-4a26-d363-68d81a2cbfc1"
   },
   "outputs": [
    {
     "data": {
      "application/vnd.google.colaboratory.intrinsic+json": {
       "type": "string"
      },
      "text/plain": [
       "'5'"
      ]
     },
     "execution_count": 68,
     "metadata": {},
     "output_type": "execute_result"
    }
   ],
   "source": [
    "min(my_new_list)"
   ]
  },
  {
   "cell_type": "markdown",
   "metadata": {
    "id": "et3AsvCkuH3n"
   },
   "source": [
    "### <code>max()</code>\n",
    "\n",
    "\n",
    "* <code>max()</code> function returns the maximum element of the list\n",
    "\n",
    "\n",
    "* <code>max()</code> function only works with lists of similar data types"
   ]
  },
  {
   "cell_type": "code",
   "execution_count": 73,
   "metadata": {
    "id": "ehW2DQUouH3o"
   },
   "outputs": [],
   "source": [
    "new_list = ['Argue','Arcue','Parent','Linear','shape']"
   ]
  },
  {
   "cell_type": "code",
   "execution_count": 72,
   "metadata": {
    "colab": {
     "base_uri": "https://localhost:8080/",
     "height": 35
    },
    "id": "oexyHaR1uH3r",
    "outputId": "b7832ead-323f-47d2-8ccc-99e6a1c38231"
   },
   "outputs": [
    {
     "data": {
      "application/vnd.google.colaboratory.intrinsic+json": {
       "type": "string"
      },
      "text/plain": [
       "'Argue'"
      ]
     },
     "execution_count": 72,
     "metadata": {},
     "output_type": "execute_result"
    }
   ],
   "source": [
    "min(new_list)"
   ]
  },
  {
   "cell_type": "markdown",
   "metadata": {
    "id": "1sitoBoVuH3u"
   },
   "source": [
    "### <code>sum()</code>\n",
    "\n",
    "\n",
    "* <code>sum()</code> function returns the sum of the elements of the list\n",
    "\n",
    "\n",
    "* <code>sum()</code> function only works with lists of numeric data types"
   ]
  },
  {
   "cell_type": "code",
   "execution_count": 74,
   "metadata": {
    "id": "cXT_0utXuH3u"
   },
   "outputs": [],
   "source": [
    "new_list = [6, 9, 1, 3, 5.5]"
   ]
  },
  {
   "cell_type": "code",
   "execution_count": 75,
   "metadata": {
    "colab": {
     "base_uri": "https://localhost:8080/"
    },
    "id": "tV5c5mkGuH3x",
    "outputId": "30afaeda-114d-4ff7-85fe-2a8d21f63e3d"
   },
   "outputs": [
    {
     "data": {
      "text/plain": [
       "24.5"
      ]
     },
     "execution_count": 75,
     "metadata": {},
     "output_type": "execute_result"
    }
   ],
   "source": [
    "sum(new_list)"
   ]
  },
  {
   "cell_type": "markdown",
   "metadata": {
    "id": "V31491BvuH3z"
   },
   "source": [
    "### <code>sorted()</code>\n",
    "\n",
    "\n",
    "* <code>sorted()</code> function returns the sorted list \n",
    "\n",
    "\n",
    "* <code>sorted()</code> function takes reverse boolean as an argument\n",
    "\n",
    "\n",
    "* <code>sorted()</code> function only works on a list with similar data types"
   ]
  },
  {
   "cell_type": "code",
   "execution_count": 78,
   "metadata": {
    "colab": {
     "base_uri": "https://localhost:8080/"
    },
    "id": "yXeGjCRCuH30",
    "outputId": "13e0634d-76ba-4e09-9d1b-e05f4de9a63e"
   },
   "outputs": [
    {
     "data": {
      "text/plain": [
       "[6, 9, 1, 3, 5.5]"
      ]
     },
     "execution_count": 78,
     "metadata": {},
     "output_type": "execute_result"
    }
   ],
   "source": [
    "new_list"
   ]
  },
  {
   "cell_type": "code",
   "execution_count": 82,
   "metadata": {
    "colab": {
     "base_uri": "https://localhost:8080/"
    },
    "id": "RoS_1mnyuH34",
    "outputId": "04bb6dfe-89b3-414f-a96d-7b5ec4bad0e2"
   },
   "outputs": [
    {
     "data": {
      "text/plain": [
       "[9, 6, 5.5, 3, 1]"
      ]
     },
     "execution_count": 82,
     "metadata": {},
     "output_type": "execute_result"
    }
   ],
   "source": [
    "sorted(new_list,reverse=True)"
   ]
  },
  {
   "cell_type": "code",
   "execution_count": 83,
   "metadata": {
    "colab": {
     "base_uri": "https://localhost:8080/"
    },
    "id": "0gQjBslbRFLH",
    "outputId": "e833a62f-18b5-4176-9b89-88cedadd0ed3"
   },
   "outputs": [
    {
     "name": "stdout",
     "output_type": "stream",
     "text": [
      "[6, 9, 1, 3, 5.5]\n"
     ]
    }
   ],
   "source": [
    "print(new_list)"
   ]
  },
  {
   "cell_type": "code",
   "execution_count": 84,
   "metadata": {
    "id": "4t5yFdfLuJZi"
   },
   "outputs": [],
   "source": [
    "new_list = ['Argue','Burglar','Parent','Linear','shape']"
   ]
  },
  {
   "cell_type": "code",
   "execution_count": 85,
   "metadata": {
    "colab": {
     "base_uri": "https://localhost:8080/"
    },
    "id": "PSPWx6EDuKw_",
    "outputId": "1055d511-57b8-46f3-9f93-233c414109a3"
   },
   "outputs": [
    {
     "data": {
      "text/plain": [
       "['Argue', 'Burglar', 'Linear', 'Parent', 'shape']"
      ]
     },
     "execution_count": 85,
     "metadata": {},
     "output_type": "execute_result"
    }
   ],
   "source": [
    "sorted(new_list)"
   ]
  },
  {
   "cell_type": "code",
   "execution_count": null,
   "metadata": {
    "colab": {
     "base_uri": "https://localhost:8080/",
     "height": 34
    },
    "id": "YAybCJVUtElx",
    "outputId": "46a45b92-d652-4588-b719-addba726479c"
   },
   "outputs": [
    {
     "name": "stdout",
     "output_type": "stream",
     "text": [
      "[6, 9, 1, 3, 5.5]\n"
     ]
    }
   ],
   "source": [
    "print(new_list)"
   ]
  },
  {
   "cell_type": "code",
   "execution_count": null,
   "metadata": {
    "colab": {
     "base_uri": "https://localhost:8080/"
    },
    "id": "qh3oquvquH38",
    "outputId": "b2ac2957-3539-456a-f247-259bc2a6919e"
   },
   "outputs": [
    {
     "data": {
      "text/plain": [
       "[9, 6, 5.5, 3, 1]"
      ]
     },
     "execution_count": 47,
     "metadata": {
      "tags": []
     },
     "output_type": "execute_result"
    }
   ],
   "source": [
    "sorted(new_list,reverse=True)"
   ]
  },
  {
   "cell_type": "code",
   "execution_count": null,
   "metadata": {
    "colab": {
     "base_uri": "https://localhost:8080/",
     "height": 166
    },
    "id": "e-eFh2jKRvJv",
    "outputId": "ad5a2239-7bb1-48b4-a60c-db15227b8c72"
   },
   "outputs": [
    {
     "ename": "TypeError",
     "evalue": "ignored",
     "output_type": "error",
     "traceback": [
      "\u001b[0;31m---------------------------------------------------------------------------\u001b[0m",
      "\u001b[0;31mTypeError\u001b[0m                                 Traceback (most recent call last)",
      "\u001b[0;32m<ipython-input-45-99e16da477d4>\u001b[0m in \u001b[0;36m<module>\u001b[0;34m()\u001b[0m\n\u001b[0;32m----> 1\u001b[0;31m \u001b[0msorted\u001b[0m\u001b[0;34m(\u001b[0m\u001b[0mnew_list\u001b[0m\u001b[0;34m,\u001b[0m\u001b[0;32mFalse\u001b[0m\u001b[0;34m)\u001b[0m\u001b[0;34m\u001b[0m\u001b[0;34m\u001b[0m\u001b[0m\n\u001b[0m",
      "\u001b[0;31mTypeError\u001b[0m: sorted expected 1 arguments, got 2"
     ]
    }
   ],
   "source": [
    "sorted(new_list)"
   ]
  },
  {
   "cell_type": "markdown",
   "metadata": {
    "id": "m4XdxpZHuH4B"
   },
   "source": [
    "* <code>sorted()</code> function does not change our list"
   ]
  },
  {
   "cell_type": "code",
   "execution_count": 86,
   "metadata": {
    "colab": {
     "base_uri": "https://localhost:8080/"
    },
    "id": "3y-kuB8tuH4B",
    "outputId": "f379409b-85ed-43e9-90e0-5bf3a2afb29a"
   },
   "outputs": [
    {
     "data": {
      "text/plain": [
       "['Argue', 'Burglar', 'Parent', 'Linear', 'shape']"
      ]
     },
     "execution_count": 86,
     "metadata": {},
     "output_type": "execute_result"
    }
   ],
   "source": [
    "new_list"
   ]
  },
  {
   "cell_type": "markdown",
   "metadata": {
    "id": "gzCO-o-1uH4F"
   },
   "source": [
    "## List Methods\n",
    "\n",
    "* If you are familiar with another programming language, you might start to draw parallels between arrays in another language and lists in Python. Lists in Python however, tend to be more flexible than arrays in other languages for a two good reasons: they have no fixed size (meaning we don't have to specify how big a list will be), and they have no fixed type constraint (like we've seen above).\n",
    "\n",
    "\n",
    "* Let's go ahead and explore some more special methods for lists:"
   ]
  },
  {
   "cell_type": "code",
   "execution_count": 87,
   "metadata": {
    "id": "q-kfah9VuH4H"
   },
   "outputs": [],
   "source": [
    "# Create a new list\n",
    "my_list = [1,2,3,1,1,1,3,10,5,8]"
   ]
  },
  {
   "cell_type": "code",
   "execution_count": null,
   "metadata": {
    "id": "-om7P_tUz6Gb"
   },
   "outputs": [],
   "source": [
    "my_list.method_name \n",
    "function_name(arguments)"
   ]
  },
  {
   "cell_type": "markdown",
   "metadata": {
    "id": "BgmqyEUHuH4M"
   },
   "source": [
    "### <code>append()</code> \n",
    "\n",
    "* Use the <code>append()</code> method to permanently add an item to the end of a list.\n",
    "\n",
    "\n",
    "* <code>append()</code> method takes the element which you want to add to the list as an argument"
   ]
  },
  {
   "cell_type": "code",
   "execution_count": 89,
   "metadata": {
    "colab": {
     "base_uri": "https://localhost:8080/"
    },
    "id": "saQ5SspXuH4M",
    "outputId": "047af427-5b67-414c-8de4-8c925fd424a6"
   },
   "outputs": [
    {
     "data": {
      "text/plain": [
       "[1, 2, 3, 1, 1, 1, 3, 10, 5, 8]"
      ]
     },
     "execution_count": 89,
     "metadata": {},
     "output_type": "execute_result"
    }
   ],
   "source": [
    "# Print the list\n",
    "my_list"
   ]
  },
  {
   "cell_type": "code",
   "execution_count": 90,
   "metadata": {
    "colab": {
     "base_uri": "https://localhost:8080/"
    },
    "id": "gVdtMuXOurNk",
    "outputId": "30b9fcf2-f6f2-47d4-87fe-bfe1c941a6b5"
   },
   "outputs": [
    {
     "data": {
      "text/plain": [
       "10"
      ]
     },
     "execution_count": 90,
     "metadata": {},
     "output_type": "execute_result"
    }
   ],
   "source": [
    "len(my_list)"
   ]
  },
  {
   "cell_type": "code",
   "execution_count": 91,
   "metadata": {
    "id": "byL4_5EruH4Q"
   },
   "outputs": [],
   "source": [
    "# Append to the end of the list\n",
    "my_list.append('Append me!')"
   ]
  },
  {
   "cell_type": "markdown",
   "metadata": {
    "id": "7yniA300uH4V"
   },
   "source": [
    "* Ah darn it! I was expecting some output. Lets see what happened to <code>my_list</code>"
   ]
  },
  {
   "cell_type": "code",
   "execution_count": 92,
   "metadata": {
    "colab": {
     "base_uri": "https://localhost:8080/"
    },
    "id": "t1qW2S6SuH4W",
    "outputId": "f2d57b6f-8610-4aa5-980a-c427e55346c7"
   },
   "outputs": [
    {
     "name": "stdout",
     "output_type": "stream",
     "text": [
      "[1, 2, 3, 1, 1, 1, 3, 10, 5, 8, 'Append me!']\n"
     ]
    }
   ],
   "source": [
    "print(my_list)"
   ]
  },
  {
   "cell_type": "code",
   "execution_count": 93,
   "metadata": {
    "colab": {
     "base_uri": "https://localhost:8080/"
    },
    "id": "9BMYgas1XeYO",
    "outputId": "0f2f42bc-482f-403a-a80c-7a411fae2483"
   },
   "outputs": [
    {
     "data": {
      "text/plain": [
       "11"
      ]
     },
     "execution_count": 93,
     "metadata": {},
     "output_type": "execute_result"
    }
   ],
   "source": [
    "len(my_list)"
   ]
  },
  {
   "cell_type": "markdown",
   "metadata": {
    "id": "L4UT-17_uH4c"
   },
   "source": [
    "* Woah! Calling the <code>append()</code> method changed my list? Yes, the <code>append()</code>  method changes your original list!"
   ]
  },
  {
   "cell_type": "code",
   "execution_count": 94,
   "metadata": {
    "id": "_llNxOVDuH4c"
   },
   "outputs": [],
   "source": [
    "# Show\n",
    "my_list.append(2.73)"
   ]
  },
  {
   "cell_type": "code",
   "execution_count": 95,
   "metadata": {
    "colab": {
     "base_uri": "https://localhost:8080/"
    },
    "id": "dc-ercdKuH4h",
    "outputId": "bc83ce82-1e17-472a-c32c-1c618920ef69"
   },
   "outputs": [
    {
     "name": "stdout",
     "output_type": "stream",
     "text": [
      "[1, 2, 3, 1, 1, 1, 3, 10, 5, 8, 'Append me!', 2.73]\n"
     ]
    }
   ],
   "source": [
    "print(my_list)"
   ]
  },
  {
   "cell_type": "markdown",
   "metadata": {
    "id": "3NrEzBJFuH4u"
   },
   "source": [
    "* We can in fact add a list object to our <code>my_list</code> object"
   ]
  },
  {
   "cell_type": "code",
   "execution_count": 96,
   "metadata": {
    "id": "xIMMzSLNuH4u"
   },
   "outputs": [],
   "source": [
    "my_list.append([1,2,3])"
   ]
  },
  {
   "cell_type": "code",
   "execution_count": 97,
   "metadata": {
    "colab": {
     "base_uri": "https://localhost:8080/"
    },
    "id": "CjjTg7jAuH4y",
    "outputId": "442ea70a-5f8c-4ffc-e822-6c950872a4f0"
   },
   "outputs": [
    {
     "data": {
      "text/plain": [
       "[1, 2, 3, 1, 1, 1, 3, 10, 5, 8, 'Append me!', 2.73, [1, 2, 3]]"
      ]
     },
     "execution_count": 97,
     "metadata": {},
     "output_type": "execute_result"
    }
   ],
   "source": [
    "my_list"
   ]
  },
  {
   "cell_type": "code",
   "execution_count": 98,
   "metadata": {
    "colab": {
     "base_uri": "https://localhost:8080/"
    },
    "id": "vd8gGikTYUF4",
    "outputId": "8ff9ee3a-914c-4787-d8dc-f19e0b466c35"
   },
   "outputs": [
    {
     "data": {
      "text/plain": [
       "13"
      ]
     },
     "execution_count": 98,
     "metadata": {},
     "output_type": "execute_result"
    }
   ],
   "source": [
    "len(my_list)"
   ]
  },
  {
   "cell_type": "code",
   "execution_count": 99,
   "metadata": {
    "id": "tPnUf3nbYgqs"
   },
   "outputs": [],
   "source": [
    "my_list.append([10,[19,20],30])"
   ]
  },
  {
   "cell_type": "code",
   "execution_count": 100,
   "metadata": {
    "colab": {
     "base_uri": "https://localhost:8080/"
    },
    "id": "Blq4mDwXYme1",
    "outputId": "4169b0f2-e745-4b54-bb67-5addf1671083"
   },
   "outputs": [
    {
     "data": {
      "text/plain": [
       "14"
      ]
     },
     "execution_count": 100,
     "metadata": {},
     "output_type": "execute_result"
    }
   ],
   "source": [
    "len(my_list)"
   ]
  },
  {
   "cell_type": "markdown",
   "metadata": {
    "id": "tGmbu4MKuH43"
   },
   "source": [
    "### <code>extend()</code>\n",
    "\n",
    "* Use the <code> extend()</code> method to merge a list to an existing list\n",
    "\n",
    "\n",
    "* <code> extend()</code> method takes a list or any iterable(don't worry about it now) as an argument.\n",
    "\n",
    "\n",
    "* Quite helpful when you have two or more lists and you want to merge them together"
   ]
  },
  {
   "cell_type": "code",
   "execution_count": 101,
   "metadata": {
    "colab": {
     "base_uri": "https://localhost:8080/"
    },
    "id": "yvkbC_3uuH43",
    "outputId": "803ec92b-ed92-46d5-c196-ea014ea6bee8"
   },
   "outputs": [
    {
     "name": "stdout",
     "output_type": "stream",
     "text": [
      "[1, 2, 3, 1, 1, 1, 3, 10, 5, 8, 'Append me!', 2.73, [1, 2, 3], [10, [19, 20], 30]]\n"
     ]
    }
   ],
   "source": [
    "# Print the list\n",
    "print(my_list)"
   ]
  },
  {
   "cell_type": "code",
   "execution_count": 102,
   "metadata": {
    "id": "gdvUZUYEuH49"
   },
   "outputs": [],
   "source": [
    "my_list.extend(['Wubba','Lubba','Dub Dub'])"
   ]
  },
  {
   "cell_type": "code",
   "execution_count": 103,
   "metadata": {
    "colab": {
     "base_uri": "https://localhost:8080/"
    },
    "id": "PU-1mE1xuH5A",
    "outputId": "d872d0bb-3728-465f-8cf4-0c891189a9c1"
   },
   "outputs": [
    {
     "name": "stdout",
     "output_type": "stream",
     "text": [
      "[1, 2, 3, 1, 1, 1, 3, 10, 5, 8, 'Append me!', 2.73, [1, 2, 3], [10, [19, 20], 30], 'Wubba', 'Lubba', 'Dub Dub']\n"
     ]
    }
   ],
   "source": [
    "print(my_list)"
   ]
  },
  {
   "cell_type": "code",
   "execution_count": 104,
   "metadata": {
    "colab": {
     "base_uri": "https://localhost:8080/"
    },
    "id": "hQo7GQA0aDIz",
    "outputId": "afe72fd1-0513-4674-ba2d-b0a383927d80"
   },
   "outputs": [
    {
     "data": {
      "text/plain": [
       "17"
      ]
     },
     "execution_count": 104,
     "metadata": {},
     "output_type": "execute_result"
    }
   ],
   "source": [
    "len(my_list)"
   ]
  },
  {
   "cell_type": "markdown",
   "metadata": {
    "id": "rshOIKENuH5F"
   },
   "source": [
    "### <code>pop()</code>\n",
    "\n",
    "* Use <code>pop()</code> to \"pop off\" an item from the list. \n",
    "\n",
    "\n",
    "* By default <code>pop()</code> takes off the element at the last index, but you can also specify which index to pop off. \n",
    "\n",
    "\n",
    "* <code>pop()</code> takes the index as an argument and returns the elenent which was popped off."
   ]
  },
  {
   "cell_type": "code",
   "execution_count": 105,
   "metadata": {
    "colab": {
     "base_uri": "https://localhost:8080/"
    },
    "id": "fhLzeQHYuH5G",
    "outputId": "091914f9-215d-44b0-ea6c-3fc045969a5a"
   },
   "outputs": [
    {
     "name": "stdout",
     "output_type": "stream",
     "text": [
      "[1, 2, 3, 1, 1, 1, 3, 10, 5, 8, 'Append me!', 2.73, [1, 2, 3], [10, [19, 20], 30], 'Wubba', 'Lubba', 'Dub Dub']\n"
     ]
    }
   ],
   "source": [
    "# Print the list\n",
    "print(my_list)"
   ]
  },
  {
   "cell_type": "code",
   "execution_count": 106,
   "metadata": {
    "colab": {
     "base_uri": "https://localhost:8080/",
     "height": 35
    },
    "id": "k1OLmtIquH5M",
    "outputId": "ab53c201-11ea-4d9d-e3c6-af03e34894b3"
   },
   "outputs": [
    {
     "data": {
      "application/vnd.google.colaboratory.intrinsic+json": {
       "type": "string"
      },
      "text/plain": [
       "'Dub Dub'"
      ]
     },
     "execution_count": 106,
     "metadata": {},
     "output_type": "execute_result"
    }
   ],
   "source": [
    "# Pop off the 0 indexed item\n",
    "my_list.pop()"
   ]
  },
  {
   "cell_type": "markdown",
   "metadata": {
    "id": "SNWR6QjouH5Q"
   },
   "source": [
    "* <code>pop()</code> method changes the list by popping off the element at the specified index"
   ]
  },
  {
   "cell_type": "code",
   "execution_count": 107,
   "metadata": {
    "colab": {
     "base_uri": "https://localhost:8080/"
    },
    "id": "TFiATwmXuH5R",
    "outputId": "afe385d3-0646-40a1-f78a-2c8167283bf9"
   },
   "outputs": [
    {
     "name": "stdout",
     "output_type": "stream",
     "text": [
      "[1, 2, 3, 1, 1, 1, 3, 10, 5, 8, 'Append me!', 2.73, [1, 2, 3], [10, [19, 20], 30], 'Wubba', 'Lubba']\n"
     ]
    }
   ],
   "source": [
    "print(my_list)"
   ]
  },
  {
   "cell_type": "code",
   "execution_count": 109,
   "metadata": {
    "colab": {
     "base_uri": "https://localhost:8080/",
     "height": 35
    },
    "id": "33cAUa7wuH5V",
    "outputId": "bd23ff35-d748-491d-b4d5-79837217dfa8"
   },
   "outputs": [
    {
     "data": {
      "application/vnd.google.colaboratory.intrinsic+json": {
       "type": "string"
      },
      "text/plain": [
       "'Wubba'"
      ]
     },
     "execution_count": 109,
     "metadata": {},
     "output_type": "execute_result"
    }
   ],
   "source": [
    "# Assign the popped element, remember default popped index is -1\n",
    "my_list.pop(-1)"
   ]
  },
  {
   "cell_type": "code",
   "execution_count": 110,
   "metadata": {
    "colab": {
     "base_uri": "https://localhost:8080/"
    },
    "id": "qX6eae3UuH5c",
    "outputId": "e44c20aa-6b58-43ee-ccb3-54ef117232d2"
   },
   "outputs": [
    {
     "data": {
      "text/plain": [
       "14"
      ]
     },
     "execution_count": 110,
     "metadata": {},
     "output_type": "execute_result"
    }
   ],
   "source": [
    "len(my_list)"
   ]
  },
  {
   "cell_type": "code",
   "execution_count": 111,
   "metadata": {
    "colab": {
     "base_uri": "https://localhost:8080/"
    },
    "id": "pHi_Ws8uw0w0",
    "outputId": "b41a906a-3d9c-402b-f815-6028408b2a38"
   },
   "outputs": [
    {
     "name": "stdout",
     "output_type": "stream",
     "text": [
      "[1, 2, 3, 1, 1, 1, 3, 10, 5, 8, 'Append me!', 2.73, [1, 2, 3], [10, [19, 20], 30]]\n"
     ]
    }
   ],
   "source": [
    "print(my_list)"
   ]
  },
  {
   "cell_type": "markdown",
   "metadata": {
    "id": "YBAQ1FyQuH5f"
   },
   "source": [
    "### <code>remove()</code>\n",
    "\n",
    "* Use <code>remove()</code> to remove an item/element from the list. \n",
    "\n",
    "\n",
    "* By default <code>remove()</code> removes the specified element from the list.\n",
    "\n",
    "\n",
    "* <code>remove()</code> takes the element as an argument."
   ]
  },
  {
   "cell_type": "code",
   "execution_count": 112,
   "metadata": {
    "colab": {
     "base_uri": "https://localhost:8080/"
    },
    "id": "j9pp3cEJuH5g",
    "outputId": "45fe4a51-bfe3-4e1a-9c48-284eab6c7b01"
   },
   "outputs": [
    {
     "name": "stdout",
     "output_type": "stream",
     "text": [
      "[1, 2, 3, 1, 1, 1, 3, 10, 5, 8, 'Append me!', 2.73, [1, 2, 3], [10, [19, 20], 30]]\n"
     ]
    }
   ],
   "source": [
    "# Print the list\n",
    "print(my_list)"
   ]
  },
  {
   "cell_type": "code",
   "execution_count": 113,
   "metadata": {
    "id": "pTPu7lszuH5j"
   },
   "outputs": [],
   "source": [
    "# Remove the element which you want to \n",
    "my_list.remove([10, [19, 20], 30])"
   ]
  },
  {
   "cell_type": "code",
   "execution_count": 114,
   "metadata": {
    "colab": {
     "base_uri": "https://localhost:8080/"
    },
    "id": "wI2Yz2UYuH5p",
    "outputId": "c3eb1422-5aa5-415c-c918-d6d69aa8aadf"
   },
   "outputs": [
    {
     "name": "stdout",
     "output_type": "stream",
     "text": [
      "[1, 2, 3, 1, 1, 1, 3, 10, 5, 8, 'Append me!', 2.73, [1, 2, 3]]\n"
     ]
    }
   ],
   "source": [
    "# Show\n",
    "print(my_list)"
   ]
  },
  {
   "cell_type": "code",
   "execution_count": 115,
   "metadata": {
    "id": "OWn2q_6cxYo2"
   },
   "outputs": [],
   "source": [
    "my_list.remove([1,2,3])"
   ]
  },
  {
   "cell_type": "code",
   "execution_count": 116,
   "metadata": {
    "colab": {
     "base_uri": "https://localhost:8080/"
    },
    "id": "D_duqvRJxd16",
    "outputId": "43d2f7b9-32b0-4ff1-8d59-6c4609edf606"
   },
   "outputs": [
    {
     "name": "stdout",
     "output_type": "stream",
     "text": [
      "[1, 2, 3, 1, 1, 1, 3, 10, 5, 8, 'Append me!', 2.73]\n"
     ]
    }
   ],
   "source": [
    "print(my_list)"
   ]
  },
  {
   "cell_type": "code",
   "execution_count": 117,
   "metadata": {
    "colab": {
     "base_uri": "https://localhost:8080/"
    },
    "id": "i8h8-qVtxhPI",
    "outputId": "966c4981-4365-46ce-e25b-75fd10264ca3"
   },
   "outputs": [
    {
     "data": {
      "text/plain": [
       "12"
      ]
     },
     "execution_count": 117,
     "metadata": {},
     "output_type": "execute_result"
    }
   ],
   "source": [
    "len(my_list)"
   ]
  },
  {
   "cell_type": "code",
   "execution_count": 118,
   "metadata": {
    "id": "f5-UZ88Exwth"
   },
   "outputs": [],
   "source": [
    "my_list.remove(1)"
   ]
  },
  {
   "cell_type": "code",
   "execution_count": 119,
   "metadata": {
    "colab": {
     "base_uri": "https://localhost:8080/"
    },
    "id": "d3WxCp0Cxzty",
    "outputId": "3c323e04-bdb2-4b7a-8699-d47e966363d9"
   },
   "outputs": [
    {
     "name": "stdout",
     "output_type": "stream",
     "text": [
      "[2, 3, 1, 1, 1, 3, 10, 5, 8, 'Append me!', 2.73]\n"
     ]
    }
   ],
   "source": [
    "print(my_list)"
   ]
  },
  {
   "cell_type": "code",
   "execution_count": 120,
   "metadata": {
    "colab": {
     "base_uri": "https://localhost:8080/"
    },
    "id": "4ewbAKKhx-vS",
    "outputId": "c87e9f29-1d44-4d2c-eef2-dae53ac506b4"
   },
   "outputs": [
    {
     "data": {
      "text/plain": [
       "11"
      ]
     },
     "execution_count": 120,
     "metadata": {},
     "output_type": "execute_result"
    }
   ],
   "source": [
    "len(my_list)"
   ]
  },
  {
   "cell_type": "code",
   "execution_count": 121,
   "metadata": {
    "colab": {
     "base_uri": "https://localhost:8080/"
    },
    "id": "-gey8zXHcsH5",
    "outputId": "95c8a1e6-d7ed-4d39-8460-286052dd6b5d"
   },
   "outputs": [
    {
     "data": {
      "text/plain": [
       "<function list.clear>"
      ]
     },
     "execution_count": 121,
     "metadata": {},
     "output_type": "execute_result"
    }
   ],
   "source": [
    "my_list.clear"
   ]
  },
  {
   "cell_type": "code",
   "execution_count": 122,
   "metadata": {
    "colab": {
     "base_uri": "https://localhost:8080/"
    },
    "id": "3upp_njP1_JR",
    "outputId": "0de59902-d97b-450f-929b-bbe433144bab"
   },
   "outputs": [
    {
     "data": {
      "text/plain": [
       "[2, 3, 1, 1, 1, 3, 10, 5, 8, 'Append me!', 2.73]"
      ]
     },
     "execution_count": 122,
     "metadata": {},
     "output_type": "execute_result"
    }
   ],
   "source": [
    "my_list"
   ]
  },
  {
   "cell_type": "markdown",
   "metadata": {
    "id": "Wheg57npuH5t"
   },
   "source": [
    "### <code>count()</code>\n",
    "\n",
    "\n",
    "* The <code>count()</code> method returns the total occurrence of a specified element in the list"
   ]
  },
  {
   "cell_type": "code",
   "execution_count": 123,
   "metadata": {
    "colab": {
     "base_uri": "https://localhost:8080/"
    },
    "id": "ECnUwg_eyG47",
    "outputId": "9d0a280e-13c3-4a61-e7e4-513b6adf723f"
   },
   "outputs": [
    {
     "name": "stdout",
     "output_type": "stream",
     "text": [
      "[2, 3, 1, 1, 1, 3, 10, 5, 8, 'Append me!', 2.73]\n"
     ]
    }
   ],
   "source": [
    "print(my_list)"
   ]
  },
  {
   "cell_type": "code",
   "execution_count": 124,
   "metadata": {
    "colab": {
     "base_uri": "https://localhost:8080/"
    },
    "id": "v62QCGFTuH5u",
    "outputId": "f0bc4641-3800-4849-dff5-d33f4c75337d"
   },
   "outputs": [
    {
     "data": {
      "text/plain": [
       "0"
      ]
     },
     "execution_count": 124,
     "metadata": {},
     "output_type": "execute_result"
    }
   ],
   "source": [
    "# Count the number of times element 1 occurs in my_list\n",
    "my_list.count('Wubba')"
   ]
  },
  {
   "cell_type": "code",
   "execution_count": 125,
   "metadata": {
    "colab": {
     "base_uri": "https://localhost:8080/"
    },
    "id": "LA3k4qScuH5z",
    "outputId": "ccf4936c-8c0d-4d69-e525-3b341d1269ec"
   },
   "outputs": [
    {
     "data": {
      "text/plain": [
       "3"
      ]
     },
     "execution_count": 125,
     "metadata": {},
     "output_type": "execute_result"
    }
   ],
   "source": [
    "my_list.count(1)"
   ]
  },
  {
   "cell_type": "markdown",
   "metadata": {
    "id": "avyykdGjuH52"
   },
   "source": [
    "### <code>index()</code>\n",
    "\n",
    "\n",
    "* The <code>index()</code> method returns the index of a specified element."
   ]
  },
  {
   "cell_type": "code",
   "execution_count": 126,
   "metadata": {
    "colab": {
     "base_uri": "https://localhost:8080/"
    },
    "id": "78Mc3vSuydeb",
    "outputId": "b207a114-1fb5-41ae-dcb1-e974b257fb1f"
   },
   "outputs": [
    {
     "name": "stdout",
     "output_type": "stream",
     "text": [
      "[2, 3, 1, 1, 1, 3, 10, 5, 8, 'Append me!', 2.73]\n"
     ]
    }
   ],
   "source": [
    "print(my_list)"
   ]
  },
  {
   "cell_type": "code",
   "execution_count": 127,
   "metadata": {
    "colab": {
     "base_uri": "https://localhost:8080/"
    },
    "id": "ziOkTs68uH52",
    "outputId": "3f55f25a-6a37-423d-af07-8d2fdb3a17c8"
   },
   "outputs": [
    {
     "data": {
      "text/plain": [
       "9"
      ]
     },
     "execution_count": 127,
     "metadata": {},
     "output_type": "execute_result"
    }
   ],
   "source": [
    "my_list.index('Append me!')"
   ]
  },
  {
   "cell_type": "code",
   "execution_count": 128,
   "metadata": {
    "colab": {
     "base_uri": "https://localhost:8080/"
    },
    "id": "k-ByxvTYuH54",
    "outputId": "c8474e75-5dd4-4a18-ea1e-fc878e49bff8"
   },
   "outputs": [
    {
     "data": {
      "text/plain": [
       "1"
      ]
     },
     "execution_count": 128,
     "metadata": {},
     "output_type": "execute_result"
    }
   ],
   "source": [
    "my_list.index(3)"
   ]
  },
  {
   "cell_type": "markdown",
   "metadata": {
    "id": "f4JqHtEouH57"
   },
   "source": [
    "### <code>sort()</code>\n",
    "\n",
    "* Use <code>sort()</code> to sort the list in either ascending/descending order\n",
    "\n",
    "\n",
    "* The sorting is done in ascending order by default\n",
    "\n",
    "\n",
    "* <code>sort()</code> method takes the reverse boolean as an argument\n",
    "\n",
    "\n",
    "* <code>sort()</code> method only works on a list with elements of same data type"
   ]
  },
  {
   "cell_type": "code",
   "execution_count": 129,
   "metadata": {
    "id": "yOIhOzjruH57"
   },
   "outputs": [],
   "source": [
    "new_list = [6, 9, 1, 3, 5]"
   ]
  },
  {
   "cell_type": "code",
   "execution_count": 131,
   "metadata": {
    "id": "VhPOveeYuH59"
   },
   "outputs": [],
   "source": [
    "# Use sort to sort the list (this is permanent!)\n",
    "new_list.sort()"
   ]
  },
  {
   "cell_type": "code",
   "execution_count": 132,
   "metadata": {
    "colab": {
     "base_uri": "https://localhost:8080/"
    },
    "id": "iw_PGYFmuH6S",
    "outputId": "d36ff026-7826-4b85-b78e-fa1a36e999d4"
   },
   "outputs": [
    {
     "name": "stdout",
     "output_type": "stream",
     "text": [
      "[1, 3, 5, 6, 9]\n"
     ]
    }
   ],
   "source": [
    "print(new_list)"
   ]
  },
  {
   "cell_type": "code",
   "execution_count": 133,
   "metadata": {
    "colab": {
     "base_uri": "https://localhost:8080/"
    },
    "id": "7G1nOh1VuH6U",
    "outputId": "76375567-87f6-4223-bc30-222efcfe38f1"
   },
   "outputs": [
    {
     "name": "stdout",
     "output_type": "stream",
     "text": [
      "[9, 6, 5, 3, 1]\n"
     ]
    }
   ],
   "source": [
    "# Use the reverse boolean to set the ascending or descending order\n",
    "new_list.sort(reverse=True)\n",
    "print(new_list)"
   ]
  },
  {
   "cell_type": "code",
   "execution_count": 134,
   "metadata": {
    "id": "QIoFBvqOzosU"
   },
   "outputs": [],
   "source": [
    "boolean_list = [True, False]"
   ]
  },
  {
   "cell_type": "code",
   "execution_count": 135,
   "metadata": {
    "id": "tqENLXmJzueH"
   },
   "outputs": [],
   "source": [
    "boolean_list.sort(reverse=True)"
   ]
  },
  {
   "cell_type": "code",
   "execution_count": 136,
   "metadata": {
    "colab": {
     "base_uri": "https://localhost:8080/"
    },
    "id": "O6MiKYnMzxvD",
    "outputId": "e5bcedcf-c082-4980-d171-02dd555a4c07"
   },
   "outputs": [
    {
     "name": "stdout",
     "output_type": "stream",
     "text": [
      "[True, False]\n"
     ]
    }
   ],
   "source": [
    "print(boolean_list)"
   ]
  },
  {
   "cell_type": "markdown",
   "metadata": {
    "id": "-PKIGd9xuH6a"
   },
   "source": [
    "### <code>reverse()</code>\n",
    "\n",
    "* <code>reverse()</code> method reverses the list"
   ]
  },
  {
   "cell_type": "code",
   "execution_count": 137,
   "metadata": {
    "id": "0Z_IZuJeuH6d"
   },
   "outputs": [],
   "source": [
    "my_list = [1, 1, 1, 1, 1.43, 2, 3, 3, 5, 8, 10, 'Lubba', 'Dub Dub']"
   ]
  },
  {
   "cell_type": "code",
   "execution_count": 138,
   "metadata": {
    "colab": {
     "base_uri": "https://localhost:8080/"
    },
    "id": "idf-jZVG0FWq",
    "outputId": "eeb3d205-2246-434f-a17f-0c8d1edcecbb"
   },
   "outputs": [
    {
     "name": "stdout",
     "output_type": "stream",
     "text": [
      "[1, 1, 1, 1, 1.43, 2, 3, 3, 5, 8, 10, 'Lubba', 'Dub Dub']\n"
     ]
    }
   ],
   "source": [
    "print(my_list)"
   ]
  },
  {
   "cell_type": "code",
   "execution_count": 139,
   "metadata": {
    "id": "XlHNzFuWuH6f"
   },
   "outputs": [],
   "source": [
    "my_list.reverse()"
   ]
  },
  {
   "cell_type": "code",
   "execution_count": 140,
   "metadata": {
    "colab": {
     "base_uri": "https://localhost:8080/"
    },
    "id": "EIjRqvMsuH6h",
    "outputId": "c3d11789-2352-4493-faf7-9183d90e1c5a"
   },
   "outputs": [
    {
     "name": "stdout",
     "output_type": "stream",
     "text": [
      "['Dub Dub', 'Lubba', 10, 8, 5, 3, 3, 2, 1.43, 1, 1, 1, 1]\n"
     ]
    }
   ],
   "source": [
    "print(my_list)"
   ]
  },
  {
   "cell_type": "markdown",
   "metadata": {
    "id": "Kflrg7Y0uH6j"
   },
   "source": [
    "## Nested Lists\n",
    "\n",
    "* A great feature of of Python data structures is that they support *nesting*. This means we can have data structures within data structures. For example: A list inside a list."
   ]
  },
  {
   "cell_type": "code",
   "execution_count": 143,
   "metadata": {
    "id": "fcP7eX_buH6j"
   },
   "outputs": [],
   "source": [
    "# Let's make three lists\n",
    "lst_1=[1,2,3]\n",
    "lst_2=['b','a','d']\n",
    "lst_3=[7,8,9]\n",
    "\n",
    "# Make a list of lists to form a matrix\n",
    "list_of_lists = [lst_1,lst_2,lst_3]"
   ]
  },
  {
   "cell_type": "code",
   "execution_count": 144,
   "metadata": {
    "colab": {
     "base_uri": "https://localhost:8080/"
    },
    "id": "ZW98bxOcuH6l",
    "outputId": "7a1d9f8e-add1-41d8-a7ca-ddfa6229281d"
   },
   "outputs": [
    {
     "name": "stdout",
     "output_type": "stream",
     "text": [
      "[[1, 2, 3], ['b', 'a', 'd'], [7, 8, 9]]\n"
     ]
    }
   ],
   "source": [
    "print(list_of_lists)"
   ]
  },
  {
   "cell_type": "code",
   "execution_count": 145,
   "metadata": {
    "colab": {
     "base_uri": "https://localhost:8080/"
    },
    "id": "LCsNZqhiuH6o",
    "outputId": "e2963fdd-aa3b-4f04-c407-84ec11c5428a"
   },
   "outputs": [
    {
     "data": {
      "text/plain": [
       "list"
      ]
     },
     "execution_count": 145,
     "metadata": {},
     "output_type": "execute_result"
    }
   ],
   "source": [
    "# Show\n",
    "type(list_of_lists)"
   ]
  },
  {
   "cell_type": "code",
   "execution_count": null,
   "metadata": {
    "colab": {
     "base_uri": "https://localhost:8080/",
     "height": 34
    },
    "id": "b0RVu1A9uH6r",
    "outputId": "0287ab44-4d6f-48e5-dcda-31234941c262"
   },
   "outputs": [
    {
     "data": {
      "text/plain": [
       "['b', 'a', 'd']"
      ]
     },
     "execution_count": 189,
     "metadata": {
      "tags": []
     },
     "output_type": "execute_result"
    }
   ],
   "source": [
    "# Grab first item in matrix object\n",
    "list_of_lists[1]"
   ]
  },
  {
   "cell_type": "code",
   "execution_count": 146,
   "metadata": {
    "colab": {
     "base_uri": "https://localhost:8080/"
    },
    "id": "HXVZtlY3uH6u",
    "outputId": "2409a217-9a61-469d-97d3-cb2689ef9e7e"
   },
   "outputs": [
    {
     "data": {
      "text/plain": [
       "list"
      ]
     },
     "execution_count": 146,
     "metadata": {},
     "output_type": "execute_result"
    }
   ],
   "source": [
    "# Grab first item of the first item in the matrix object\n",
    "type(list_of_lists[1])"
   ]
  },
  {
   "cell_type": "code",
   "execution_count": 147,
   "metadata": {
    "colab": {
     "base_uri": "https://localhost:8080/",
     "height": 35
    },
    "id": "4B52LBDjOSIz",
    "outputId": "7cae41da-d13a-4613-ad91-42659cf8408b"
   },
   "outputs": [
    {
     "data": {
      "application/vnd.google.colaboratory.intrinsic+json": {
       "type": "string"
      },
      "text/plain": [
       "'a'"
      ]
     },
     "execution_count": 147,
     "metadata": {},
     "output_type": "execute_result"
    }
   ],
   "source": [
    "list_of_lists[1][1]"
   ]
  }
 ],
 "metadata": {
  "colab": {
   "collapsed_sections": [
    "6Qd7qKM1uH3Y",
    "p7d98KoOuH3f",
    "et3AsvCkuH3n",
    "1sitoBoVuH3u",
    "V31491BvuH3z",
    "BgmqyEUHuH4M",
    "tGmbu4MKuH43",
    "rshOIKENuH5F",
    "YBAQ1FyQuH5f",
    "Wheg57npuH5t",
    "avyykdGjuH52",
    "f4JqHtEouH57",
    "-PKIGd9xuH6a"
   ],
   "name": "Introduction to Lists.ipynb",
   "provenance": []
  },
  "kernelspec": {
   "display_name": "Python 3",
   "language": "python",
   "name": "python3"
  },
  "language_info": {
   "codemirror_mode": {
    "name": "ipython",
    "version": 3
   },
   "file_extension": ".py",
   "mimetype": "text/x-python",
   "name": "python",
   "nbconvert_exporter": "python",
   "pygments_lexer": "ipython3",
   "version": "3.8.8"
  }
 },
 "nbformat": 4,
 "nbformat_minor": 1
}
