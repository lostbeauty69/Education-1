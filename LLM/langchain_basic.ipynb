{
  "nbformat": 4,
  "nbformat_minor": 0,
  "metadata": {
    "colab": {
      "provenance": []
    },
    "kernelspec": {
      "name": "python3",
      "display_name": "Python 3"
    },
    "language_info": {
      "name": "python"
    }
  },
  "cells": [
    {
      "cell_type": "code",
      "source": [
        "# Add the directory containing the file 'secret_key.py' to the Python path\n",
        "import sys\n",
        "sys.path.append(\"/content/secret_key.py\")\n",
        "\n",
        "# Import the openapi_key variable from the secret_key.py file\n",
        "from secret_key import openapi_key\n",
        "\n",
        "# Set the OPENAI_API_KEY environment variable\n",
        "import os\n",
        "os.environ['OPENAI_API_KEY'] = openapi_key"
      ],
      "metadata": {
        "id": "RUCnvjYAn9un"
      },
      "execution_count": null,
      "outputs": []
    },
    {
      "cell_type": "code",
      "source": [
        "!pip install openai"
      ],
      "metadata": {
        "colab": {
          "base_uri": "https://localhost:8080/"
        },
        "id": "o0dAeiO_oYB1",
        "outputId": "508091f3-af07-4786-f3dd-fd059352659b"
      },
      "execution_count": null,
      "outputs": [
        {
          "output_type": "stream",
          "name": "stdout",
          "text": [
            "Requirement already satisfied: openai in /usr/local/lib/python3.10/dist-packages (1.30.1)\n",
            "Requirement already satisfied: anyio<5,>=3.5.0 in /usr/local/lib/python3.10/dist-packages (from openai) (3.7.1)\n",
            "Requirement already satisfied: distro<2,>=1.7.0 in /usr/lib/python3/dist-packages (from openai) (1.7.0)\n",
            "Requirement already satisfied: httpx<1,>=0.23.0 in /usr/local/lib/python3.10/dist-packages (from openai) (0.27.0)\n",
            "Requirement already satisfied: pydantic<3,>=1.9.0 in /usr/local/lib/python3.10/dist-packages (from openai) (2.7.1)\n",
            "Requirement already satisfied: sniffio in /usr/local/lib/python3.10/dist-packages (from openai) (1.3.1)\n",
            "Requirement already satisfied: tqdm>4 in /usr/local/lib/python3.10/dist-packages (from openai) (4.66.4)\n",
            "Requirement already satisfied: typing-extensions<5,>=4.7 in /usr/local/lib/python3.10/dist-packages (from openai) (4.11.0)\n",
            "Requirement already satisfied: idna>=2.8 in /usr/local/lib/python3.10/dist-packages (from anyio<5,>=3.5.0->openai) (3.7)\n",
            "Requirement already satisfied: exceptiongroup in /usr/local/lib/python3.10/dist-packages (from anyio<5,>=3.5.0->openai) (1.2.1)\n",
            "Requirement already satisfied: certifi in /usr/local/lib/python3.10/dist-packages (from httpx<1,>=0.23.0->openai) (2024.2.2)\n",
            "Requirement already satisfied: httpcore==1.* in /usr/local/lib/python3.10/dist-packages (from httpx<1,>=0.23.0->openai) (1.0.5)\n",
            "Requirement already satisfied: h11<0.15,>=0.13 in /usr/local/lib/python3.10/dist-packages (from httpcore==1.*->httpx<1,>=0.23.0->openai) (0.14.0)\n",
            "Requirement already satisfied: annotated-types>=0.4.0 in /usr/local/lib/python3.10/dist-packages (from pydantic<3,>=1.9.0->openai) (0.6.0)\n",
            "Requirement already satisfied: pydantic-core==2.18.2 in /usr/local/lib/python3.10/dist-packages (from pydantic<3,>=1.9.0->openai) (2.18.2)\n"
          ]
        }
      ]
    },
    {
      "cell_type": "code",
      "source": [
        "!pip install langchain_community"
      ],
      "metadata": {
        "colab": {
          "base_uri": "https://localhost:8080/"
        },
        "id": "3Z2Ydsb1oxIF",
        "outputId": "de4990d4-b701-45ac-b5a0-8960b3bb0b5c"
      },
      "execution_count": null,
      "outputs": [
        {
          "output_type": "stream",
          "name": "stdout",
          "text": [
            "Requirement already satisfied: langchain_community in /usr/local/lib/python3.10/dist-packages (0.2.0)\n",
            "Requirement already satisfied: PyYAML>=5.3 in /usr/local/lib/python3.10/dist-packages (from langchain_community) (6.0.1)\n",
            "Requirement already satisfied: SQLAlchemy<3,>=1.4 in /usr/local/lib/python3.10/dist-packages (from langchain_community) (2.0.30)\n",
            "Requirement already satisfied: aiohttp<4.0.0,>=3.8.3 in /usr/local/lib/python3.10/dist-packages (from langchain_community) (3.9.5)\n",
            "Requirement already satisfied: dataclasses-json<0.7,>=0.5.7 in /usr/local/lib/python3.10/dist-packages (from langchain_community) (0.6.6)\n",
            "Requirement already satisfied: langchain<0.3.0,>=0.2.0 in /usr/local/lib/python3.10/dist-packages (from langchain_community) (0.2.0)\n",
            "Requirement already satisfied: langchain-core<0.3.0,>=0.2.0 in /usr/local/lib/python3.10/dist-packages (from langchain_community) (0.2.1)\n",
            "Requirement already satisfied: langsmith<0.2.0,>=0.1.0 in /usr/local/lib/python3.10/dist-packages (from langchain_community) (0.1.60)\n",
            "Requirement already satisfied: numpy<2,>=1 in /usr/local/lib/python3.10/dist-packages (from langchain_community) (1.25.2)\n",
            "Requirement already satisfied: requests<3,>=2 in /usr/local/lib/python3.10/dist-packages (from langchain_community) (2.31.0)\n",
            "Requirement already satisfied: tenacity<9.0.0,>=8.1.0 in /usr/local/lib/python3.10/dist-packages (from langchain_community) (8.3.0)\n",
            "Requirement already satisfied: aiosignal>=1.1.2 in /usr/local/lib/python3.10/dist-packages (from aiohttp<4.0.0,>=3.8.3->langchain_community) (1.3.1)\n",
            "Requirement already satisfied: attrs>=17.3.0 in /usr/local/lib/python3.10/dist-packages (from aiohttp<4.0.0,>=3.8.3->langchain_community) (23.2.0)\n",
            "Requirement already satisfied: frozenlist>=1.1.1 in /usr/local/lib/python3.10/dist-packages (from aiohttp<4.0.0,>=3.8.3->langchain_community) (1.4.1)\n",
            "Requirement already satisfied: multidict<7.0,>=4.5 in /usr/local/lib/python3.10/dist-packages (from aiohttp<4.0.0,>=3.8.3->langchain_community) (6.0.5)\n",
            "Requirement already satisfied: yarl<2.0,>=1.0 in /usr/local/lib/python3.10/dist-packages (from aiohttp<4.0.0,>=3.8.3->langchain_community) (1.9.4)\n",
            "Requirement already satisfied: async-timeout<5.0,>=4.0 in /usr/local/lib/python3.10/dist-packages (from aiohttp<4.0.0,>=3.8.3->langchain_community) (4.0.3)\n",
            "Requirement already satisfied: marshmallow<4.0.0,>=3.18.0 in /usr/local/lib/python3.10/dist-packages (from dataclasses-json<0.7,>=0.5.7->langchain_community) (3.21.2)\n",
            "Requirement already satisfied: typing-inspect<1,>=0.4.0 in /usr/local/lib/python3.10/dist-packages (from dataclasses-json<0.7,>=0.5.7->langchain_community) (0.9.0)\n",
            "Requirement already satisfied: langchain-text-splitters<0.3.0,>=0.2.0 in /usr/local/lib/python3.10/dist-packages (from langchain<0.3.0,>=0.2.0->langchain_community) (0.2.0)\n",
            "Requirement already satisfied: pydantic<3,>=1 in /usr/local/lib/python3.10/dist-packages (from langchain<0.3.0,>=0.2.0->langchain_community) (2.7.1)\n",
            "Requirement already satisfied: jsonpatch<2.0,>=1.33 in /usr/local/lib/python3.10/dist-packages (from langchain-core<0.3.0,>=0.2.0->langchain_community) (1.33)\n",
            "Requirement already satisfied: packaging<24.0,>=23.2 in /usr/local/lib/python3.10/dist-packages (from langchain-core<0.3.0,>=0.2.0->langchain_community) (23.2)\n",
            "Requirement already satisfied: orjson<4.0.0,>=3.9.14 in /usr/local/lib/python3.10/dist-packages (from langsmith<0.2.0,>=0.1.0->langchain_community) (3.10.3)\n",
            "Requirement already satisfied: charset-normalizer<4,>=2 in /usr/local/lib/python3.10/dist-packages (from requests<3,>=2->langchain_community) (3.3.2)\n",
            "Requirement already satisfied: idna<4,>=2.5 in /usr/local/lib/python3.10/dist-packages (from requests<3,>=2->langchain_community) (3.7)\n",
            "Requirement already satisfied: urllib3<3,>=1.21.1 in /usr/local/lib/python3.10/dist-packages (from requests<3,>=2->langchain_community) (2.0.7)\n",
            "Requirement already satisfied: certifi>=2017.4.17 in /usr/local/lib/python3.10/dist-packages (from requests<3,>=2->langchain_community) (2024.2.2)\n",
            "Requirement already satisfied: typing-extensions>=4.6.0 in /usr/local/lib/python3.10/dist-packages (from SQLAlchemy<3,>=1.4->langchain_community) (4.11.0)\n",
            "Requirement already satisfied: greenlet!=0.4.17 in /usr/local/lib/python3.10/dist-packages (from SQLAlchemy<3,>=1.4->langchain_community) (3.0.3)\n",
            "Requirement already satisfied: jsonpointer>=1.9 in /usr/local/lib/python3.10/dist-packages (from jsonpatch<2.0,>=1.33->langchain-core<0.3.0,>=0.2.0->langchain_community) (2.4)\n",
            "Requirement already satisfied: annotated-types>=0.4.0 in /usr/local/lib/python3.10/dist-packages (from pydantic<3,>=1->langchain<0.3.0,>=0.2.0->langchain_community) (0.6.0)\n",
            "Requirement already satisfied: pydantic-core==2.18.2 in /usr/local/lib/python3.10/dist-packages (from pydantic<3,>=1->langchain<0.3.0,>=0.2.0->langchain_community) (2.18.2)\n",
            "Requirement already satisfied: mypy-extensions>=0.3.0 in /usr/local/lib/python3.10/dist-packages (from typing-inspect<1,>=0.4.0->dataclasses-json<0.7,>=0.5.7->langchain_community) (1.0.0)\n"
          ]
        }
      ]
    },
    {
      "cell_type": "markdown",
      "source": [
        "Large Language Models (LLMs) like OpenAI's GPT models, \"temperature\" is a parameter that controls the randomness of the model's output. It influences the diversity of the generated text by adjusting the probability distribution of the next word or token in the sequence. (LLM doc)"
      ],
      "metadata": {
        "id": "hJYxiaPx7wci"
      }
    },
    {
      "cell_type": "code",
      "source": [
        "from langchain.llms import OpenAI\n",
        "llm = OpenAI(temperature=0.6)\n",
        "jk = llm(\"How can I improve my Gen AI skills?\")\n",
        "print(jk)"
      ],
      "metadata": {
        "colab": {
          "base_uri": "https://localhost:8080/"
        },
        "id": "wslF5WYyoj5e",
        "outputId": "6bb5d330-5927-4f0d-e898-78fce31ef9ee"
      },
      "execution_count": null,
      "outputs": [
        {
          "output_type": "stream",
          "name": "stdout",
          "text": [
            "\n",
            "\n",
            "1. Familiarize yourself with AI concepts: Start by learning the basics of Artificial Intelligence, including its history, types, and applications. This will give you a strong foundation to build upon.\n",
            "\n",
            "2. Learn programming languages: To work with Gen AI, you need to be proficient in programming languages like Python, Java, and R. These languages are widely used in AI development and will help you in understanding and implementing Gen AI algorithms.\n",
            "\n",
            "3. Understand machine learning: Gen AI is a subset of machine learning, so it's crucial to have a good understanding of machine learning concepts and algorithms. This will help you in developing and training Gen AI models.\n",
            "\n",
            "4. Practice data analysis and manipulation: Gen AI relies heavily on data, so it's essential to have a good understanding of data analysis and manipulation techniques. This includes data cleaning, preprocessing, and feature engineering.\n",
            "\n",
            "5. Learn about natural language processing (NLP): NLP is a critical component of Gen AI, as it involves understanding and processing human language. Familiarize yourself with NLP techniques and tools like sentiment analysis, text classification, and chatbots.\n",
            "\n",
            "6. Stay updated with the latest developments in AI: AI is a rapidly evolving field, and it's essential to stay updated with the latest trends, tools,\n"
          ]
        }
      ]
    },
    {
      "cell_type": "code",
      "source": [
        "from langchain.prompts import PromptTemplate\n",
        "\n",
        "prompt_template_name = PromptTemplate(\n",
        "    input_variables=[\"name\"],\n",
        "    template=\"I want to open a shop for {name} industry. Suggest a fancy name for this.\"\n",
        ")\n",
        "prompt_template_name.format(name=\"clothing\")"
      ],
      "metadata": {
        "colab": {
          "base_uri": "https://localhost:8080/",
          "height": 35
        },
        "id": "6LWAF_xMzUtp",
        "outputId": "d5ea287e-3a33-45db-b831-0e6aa5904c55"
      },
      "execution_count": null,
      "outputs": [
        {
          "output_type": "execute_result",
          "data": {
            "text/plain": [
              "'I want to open a shop for clothing industry. Suggest a fancy name for this.'"
            ],
            "application/vnd.google.colaboratory.intrinsic+json": {
              "type": "string"
            }
          },
          "metadata": {},
          "execution_count": 24
        }
      ]
    },
    {
      "cell_type": "markdown",
      "source": [
        "The \"chain\" concept in Large Language Models (LLMs) like those used in LangChain refers to a series of linked operations or prompts that are executed sequentially to achieve a complex task. This concept is often referred to as \"chaining\" and it is used to break down a complicated process into smaller, manageable steps. Each step builds upon the previous one, creating a chain of operations that ultimately leads to the desired outcome."
      ],
      "metadata": {
        "id": "U1dD3ARu19GO"
      }
    },
    {
      "cell_type": "code",
      "source": [
        "from langchain.chains import LLMChain\n",
        "\n",
        "chain = LLMChain(llm=llm, prompt=prompt_template_name)\n",
        "chain.run(\"Germany\")"
      ],
      "metadata": {
        "colab": {
          "base_uri": "https://localhost:8080/",
          "height": 35
        },
        "id": "GG1I2M7k1dPO",
        "outputId": "47e175f1-0240-4d30-f283-0f868b28fad1"
      },
      "execution_count": null,
      "outputs": [
        {
          "output_type": "execute_result",
          "data": {
            "text/plain": [
              "'\\n\\n\"Deutschland Industrie Emporium\"'"
            ],
            "application/vnd.google.colaboratory.intrinsic+json": {
              "type": "string"
            }
          },
          "metadata": {},
          "execution_count": 26
        }
      ]
    },
    {
      "cell_type": "markdown",
      "source": [
        "Sequential chaining is a technique used with large language models (LLMs) to perform tasks that require multiple steps. It involves connecting several LLMs or LLM processes together in a specific order, where the output of one step becomes the input for the next.\n"
      ],
      "metadata": {
        "id": "Ntj39pWO89Ov"
      }
    },
    {
      "cell_type": "code",
      "source": [
        "llm = OpenAI(temperature=0.7)\n",
        "\n",
        "prompt_template_name = PromptTemplate(\n",
        "    input_variables=[\"cuisine\"],\n",
        "    template=\"I want to open a resturant for {cuisine} food. Suggest a fancy name for this.\"\n",
        ")\n",
        "\n",
        "name_chain = LLMChain(llm=llm, prompt=prompt_template_name)\n",
        "\n",
        "prompt_template_items = PromptTemplate(\n",
        "    input_variables= ['resturant_name'],\n",
        "    template = \"\"\"Suggest some menu items for {resturant_name}. Rturn it as a comma seperated list\"\"\"\n",
        ")\n",
        "\n",
        "food_items_chain = LLMChain(llm=llm, prompt=prompt_template_items)"
      ],
      "metadata": {
        "id": "6A7iC4zs8-hm"
      },
      "execution_count": null,
      "outputs": []
    },
    {
      "cell_type": "markdown",
      "source": [
        "In SimpleSequentialChain it will just give you one output."
      ],
      "metadata": {
        "id": "44_O8hMHCXbU"
      }
    },
    {
      "cell_type": "code",
      "source": [
        "from langchain.chains import SimpleSequentialChain\n",
        "\n",
        "chain = SimpleSequentialChain(chains=[name_chain, food_items_chain])\n",
        "response = chain.run(\"UK\")\n",
        "print(response)"
      ],
      "metadata": {
        "colab": {
          "base_uri": "https://localhost:8080/"
        },
        "id": "hi1nyJzn--VF",
        "outputId": "96d5398b-3621-4fe1-be72-328c8c4b625e"
      },
      "execution_count": null,
      "outputs": [
        {
          "output_type": "stream",
          "name": "stdout",
          "text": [
            "\n",
            "\n",
            "1. Traditional Fish and Chips\n",
            "2. Bangers and Mash\n",
            "3. Shepherd's Pie\n",
            "4. Beef Wellington\n",
            "5. Chicken Tikka Masala\n",
            "6. Scotch Eggs\n",
            "7. Ploughman's Lunch\n",
            "8. Welsh Rarebit\n",
            "9. Steak and Kidney Pie\n",
            "10. Cornish Pasty\n",
            "11. English Breakfast\n",
            "12. Sticky Toffee Pudding\n",
            "13. Fisherman's Pie\n",
            "14. Lamb Shank with Mint Sauce\n",
            "15. Sunday Roast (choice of beef, chicken, or pork)\n",
            "16. Scones with Clotted Cream and Jam\n",
            "17. Toad in the Hole\n",
            "18. Bubble and Squeak\n",
            "19. Chicken and Leek Pie\n",
            "20. Eton Mess \n"
          ]
        }
      ]
    },
    {
      "cell_type": "code",
      "source": [
        "llm = OpenAI(temperature=0.7)\n",
        "\n",
        "prompt_template_name = PromptTemplate(\n",
        "    input_variables=[\"cuisine\"],\n",
        "    template=\"I want to open a resturant for {cuisine} food. Suggest a fancy name for this.\"\n",
        ")\n",
        "\n",
        "name_chain = LLMChain(llm=llm, prompt=prompt_template_name, output_key=\"resturant_name\")\n",
        "\n",
        "prompt_template_items = PromptTemplate(\n",
        "    input_variables= ['resturant_name'],\n",
        "    template = \"Suggest some menu items for {resturant_name}.\"\n",
        ")\n",
        "\n",
        "food_items_chain = LLMChain(llm=llm, prompt=prompt_template_items, output_key=\"menu_items\")"
      ],
      "metadata": {
        "id": "8vyXbJiB_4YE"
      },
      "execution_count": null,
      "outputs": []
    },
    {
      "cell_type": "code",
      "source": [
        "from langchain.chains import SequentialChain\n",
        "\n",
        "chain = SequentialChain(\n",
        "    chains=[name_chain, food_items_chain],\n",
        "    input_variables=[\"cuisine\"],\n",
        "    output_variables=[\"resturant_name\", \"menu_items\"]\n",
        ")\n",
        "response = chain({\"cuisine\": \"India\"})\n",
        "print(response)"
      ],
      "metadata": {
        "colab": {
          "base_uri": "https://localhost:8080/"
        },
        "id": "SLYSkvSPDVmK",
        "outputId": "ac3b52c0-ae49-440a-cb60-07572948a64f"
      },
      "execution_count": null,
      "outputs": [
        {
          "output_type": "stream",
          "name": "stdout",
          "text": [
            "{'cuisine': 'India', 'resturant_name': '\\n\\n\"Maharaja\\'s Palace\"', 'menu_items': '\\n\\n1. Tandoori Chicken: Marinated chicken cooked in a clay oven, served with traditional spices and herbs.\\n\\n2. Butter Naan: Soft and fluffy Indian flatbread made with butter and served hot.\\n\\n3. Lamb Rogan Josh: A classic Indian dish made with tender lamb pieces cooked in a rich and flavorful tomato-based gravy.\\n\\n4. Vegetable Biryani: A fragrant rice dish cooked with an assortment of vegetables, spices, and herbs.\\n\\n5. Palak Paneer: Spinach and cottage cheese dish cooked in a creamy and flavorful sauce.\\n\\n6. Chicken Tikka Masala: Grilled chicken cooked in a creamy and spicy tomato-based sauce.\\n\\n7. Aloo Gobi: A popular vegetarian dish made with potatoes, cauliflower, and Indian spices.\\n\\n8. Dal Makhani: A rich and creamy lentil dish cooked in a tomato-based gravy.\\n\\n9. Malai Kofta: Vegetable and cheese balls cooked in a creamy and flavorful sauce.\\n\\n10. Gulab Jamun: A traditional Indian dessert made with fried dough balls soaked in sugar syrup.'}\n"
          ]
        }
      ]
    },
    {
      "cell_type": "code",
      "source": [
        "from langchain.chains import SequentialChain\n",
        "from langchain.prompts import PromptTemplate\n",
        "from langchain.llms import OpenAI\n",
        "from langchain.chains import LLMChain\n",
        "import os\n",
        "\n",
        "# Initialize the language model\n",
        "llm = OpenAI(temperature=0.7)\n",
        "\n",
        "# Prompt templates\n",
        "prompt_template_name = PromptTemplate(\n",
        "    input_variables=[\"destination\"],\n",
        "    template=\"I want to plan a travel package for {destination}. Suggest a fancy name for this package.\"\n",
        ")\n",
        "\n",
        "name_chain = LLMChain(llm=llm, prompt=prompt_template_name, output_key=\"package_name\")\n",
        "\n",
        "prompt_template_items = PromptTemplate(\n",
        "    input_variables=['package_name'],\n",
        "    template=\"Suggest key attractions and activities for {package_name}.\"\n",
        ")\n",
        "\n",
        "attractions_chain = LLMChain(llm=llm, prompt=prompt_template_items, output_key=\"attractions\")\n",
        "\n",
        "# Sequential chain\n",
        "chain = SequentialChain(\n",
        "    chains=[name_chain, attractions_chain],\n",
        "    input_variables=[\"destination\"],\n",
        "    output_variables=[\"package_name\", \"attractions\"]\n",
        ")\n",
        "\n",
        "# Get response from the chain\n",
        "response = chain({\"destination\": \"India\"})\n",
        "print(response)"
      ],
      "metadata": {
        "colab": {
          "base_uri": "https://localhost:8080/"
        },
        "id": "X9lt5iISD4x5",
        "outputId": "dee7364b-5b0b-4201-c543-5b3cf33f5f4b"
      },
      "execution_count": null,
      "outputs": [
        {
          "output_type": "stream",
          "name": "stdout",
          "text": [
            "{'destination': 'India', 'package_name': '\\n\\n\"Enchanting India Escapade\"', 'attractions': '\\n\\n1. Taj Mahal: No trip to India is complete without a visit to the iconic Taj Mahal, one of the New Seven Wonders of the World. This white marble mausoleum in Agra is a symbol of love and a must-see attraction.\\n\\n2. Jaipur: Known as the \"Pink City\", Jaipur is a vibrant and enchanting city famous for its stunning palaces, forts, and markets. Explore the majestic Hawa Mahal, visit the Amber Fort, and shop for colorful textiles and handicrafts.\\n\\n3. Varanasi: Considered one of the oldest cities in the world, Varanasi is a spiritual hub for Hindus. Take a boat ride on the Ganges River and witness the evening Aarti ceremony, a mesmerizing ritual of light and music.\\n\\n4. Kerala Backwaters: Cruise through the serene and picturesque backwaters of Kerala on a traditional houseboat. Admire the lush green landscapes, spot wildlife, and experience the unique local culture.\\n\\n5. Ranthambore National Park: Embark on a wildlife safari in Ranthambore National Park, one of the best places in India to spot tigers in their natural habitat. The park also boasts a variety of other animals, including le'}\n"
          ]
        }
      ]
    }
  ]
}