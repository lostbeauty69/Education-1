{
  "nbformat": 4,
  "nbformat_minor": 0,
  "metadata": {
    "colab": {
      "provenance": []
    },
    "kernelspec": {
      "name": "python3",
      "display_name": "Python 3"
    },
    "language_info": {
      "name": "python"
    }
  },
  "cells": [
    {
      "cell_type": "code",
      "execution_count": null,
      "metadata": {
        "id": "SaLHo09Y4IXo",
        "colab": {
          "base_uri": "https://localhost:8080/"
        },
        "outputId": "557fbff3-21b9-483a-8d4a-6548c077b533"
      },
      "outputs": [
        {
          "output_type": "stream",
          "name": "stdout",
          "text": [
            "[5, 4, 3, 2, '1']\n"
          ]
        }
      ],
      "source": [
        "#Write a Python function to reverse a list.\n",
        "def reverse_lst():\n",
        "  return lst[::-1]\n",
        "\n",
        "lst = [1,2,3,4,5]\n",
        "print(reverse_lst())"
      ]
    },
    {
      "cell_type": "code",
      "source": [
        "# Write a Python function to find the largest element in a list.\n",
        "def max_num():\n",
        "  return max(lst)\n",
        "\n",
        "lst = [5,7,10,999,65]\n",
        "print(max_num())"
      ],
      "metadata": {
        "colab": {
          "base_uri": "https://localhost:8080/"
        },
        "id": "P4BfO57w4Qlo",
        "outputId": "cb27d1ae-525a-48fe-cbd6-8a94ce19e786"
      },
      "execution_count": null,
      "outputs": [
        {
          "output_type": "stream",
          "name": "stdout",
          "text": [
            "999\n"
          ]
        }
      ]
    },
    {
      "cell_type": "code",
      "source": [
        "# Remove Duplicates from a list\n",
        "# When you convert the list to a dictionary using dict.fromkeys(lst),\n",
        "# the dictionary will have only unique keys (since dictionaries don't allow duplicate keys)\n",
        "# while maintaining the order of the first appearance of each element.\n",
        "def rmv_duplicates(lst):\n",
        "    return list(dict.fromkeys(lst))\n",
        "\n",
        "# Test the function\n",
        "lst = [1, 1, 2, 2, 3, 3, 4, 4, 5, 5]\n",
        "print(rmv_duplicates(lst))"
      ],
      "metadata": {
        "colab": {
          "base_uri": "https://localhost:8080/"
        },
        "id": "j6Tg2Ju6E5qZ",
        "outputId": "a8b92048-25b2-40d8-ad28-eed55eec259c"
      },
      "execution_count": 3,
      "outputs": [
        {
          "output_type": "stream",
          "name": "stdout",
          "text": [
            "[1, 2, 3, 4, 5]\n"
          ]
        }
      ]
    },
    {
      "cell_type": "code",
      "source": [
        "# A set in Python is a collection type that automatically removes duplicates\n",
        "# because sets only store unique elements.\n",
        "# list may have a different order compared to the original list\n",
        "# since sets don't preserve the order of elements.\n",
        "\n",
        "def remove_dup(lst):\n",
        "  return list(set(lst))\n",
        "\n",
        "lst = [1, 1, 2, 2, 3, 3, 4, 4, 5, 5]\n",
        "print(remove_dup(lst))"
      ],
      "metadata": {
        "colab": {
          "base_uri": "https://localhost:8080/"
        },
        "id": "cgra8WsIGg1b",
        "outputId": "97ac3ced-7ef6-4530-c32b-bb6b480b4b04"
      },
      "execution_count": 6,
      "outputs": [
        {
          "output_type": "stream",
          "name": "stdout",
          "text": [
            "[1, 2, 3, 4, 5]\n"
          ]
        }
      ]
    },
    {
      "cell_type": "code",
      "source": [
        "#Rotate a list\n",
        "\n",
        "# Step - 1: rotate_list take two parameters-\n",
        "# lst: the list we want to rotate\n",
        "# steps: the number of steps to rotate the list\n",
        "\n",
        "# Step -2: it will calculates the effective number of steps to rotate by using the modulus operator\n",
        "# if steps is greater than the length of the list, the modulus operation will reduce the number of steps to a manageable value.\n",
        "\n",
        "#Step -3: the function returns the concatenation of two slices [4, 5] and [1, 2, 3]\n",
        "#lst[-steps:] - it will take the last two numbers. [4,5]\n",
        "#lst[:-steps] - it will retrieves all elements except the last two, which are [1,2,3]\n",
        "\n",
        "def rotate_list(lst, steps):\n",
        "  steps %= len(lst)\n",
        "  return lst[-steps:] + lst[:-steps]\n",
        "\n",
        "lst = [1, 2, 3, 4, 5]\n",
        "print(rotate_list(lst, 2))\n",
        "\n",
        "#steps logic\n",
        "# If steps is less than the length, it remains unchanged.\n",
        "# If steps is greater than the length, it wraps around, effectively calculating how many actual rotations are needed.\n",
        "# If steps equals the length, it becomes 0, indicating no rotation is necessary.\n",
        ""
      ],
      "metadata": {
        "colab": {
          "base_uri": "https://localhost:8080/"
        },
        "id": "ep6uEbf_GsiY",
        "outputId": "94400b97-203d-4561-ff8c-f95496ecdd6d"
      },
      "execution_count": 35,
      "outputs": [
        {
          "output_type": "stream",
          "name": "stdout",
          "text": [
            "[4, 5, 1, 2, 3]\n"
          ]
        }
      ]
    },
    {
      "cell_type": "code",
      "source": [
        "lst = [1, 2, 3, 4, 5, 7, 9, 10]\n",
        "print(lst[-2:])"
      ],
      "metadata": {
        "colab": {
          "base_uri": "https://localhost:8080/"
        },
        "id": "-zLUBGdxSK7O",
        "outputId": "c400e701-cdf3-42a1-f1f5-e4e4fb95fba0"
      },
      "execution_count": 20,
      "outputs": [
        {
          "output_type": "stream",
          "name": "stdout",
          "text": [
            "[9, 10]\n"
          ]
        }
      ]
    },
    {
      "cell_type": "code",
      "source": [
        "lst = [1, 2, 3, 4, 5, 7, 9, 10]\n",
        "print(lst[:-2])"
      ],
      "metadata": {
        "colab": {
          "base_uri": "https://localhost:8080/"
        },
        "id": "U0TGS8YaSPsy",
        "outputId": "149833f1-17b0-4657-ff9c-28cab4ce0d50"
      },
      "execution_count": 24,
      "outputs": [
        {
          "output_type": "stream",
          "name": "stdout",
          "text": [
            "[1, 2, 3, 4, 5, 7]\n"
          ]
        }
      ]
    },
    {
      "cell_type": "code",
      "source": [
        "def rotate_list(lst, steps):\n",
        "    # Calculate the effective number of steps\n",
        "    steps %= len(lst)\n",
        "    rotated_list_first = lst[-steps:]\n",
        "    rotated_list_last = lst[:-steps][::-1]\n",
        "    return rotated_list_first + rotated_list_last\n",
        "\n",
        "lst = [1, 2, 3, 4, 5]\n",
        "print(rotate_list(lst, 2))  # Output: [4, 5, 3, 2, 1]\n"
      ],
      "metadata": {
        "colab": {
          "base_uri": "https://localhost:8080/"
        },
        "id": "4CgfDpMISSf_",
        "outputId": "671b39f0-3d1d-4391-d292-cea921b2665f"
      },
      "execution_count": 33,
      "outputs": [
        {
          "output_type": "stream",
          "name": "stdout",
          "text": [
            "[4, 5, 3, 2, 1]\n"
          ]
        }
      ]
    },
    {
      "cell_type": "code",
      "source": [],
      "metadata": {
        "id": "m6qIkonrYamH"
      },
      "execution_count": null,
      "outputs": []
    }
  ]
}