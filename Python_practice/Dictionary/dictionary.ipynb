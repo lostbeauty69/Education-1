{
  "nbformat": 4,
  "nbformat_minor": 0,
  "metadata": {
    "colab": {
      "provenance": []
    },
    "kernelspec": {
      "name": "python3",
      "display_name": "Python 3"
    },
    "language_info": {
      "name": "python"
    }
  },
  "cells": [
    {
      "cell_type": "markdown",
      "source": [
        "A **dictionary** is an unordered, mutable collection of key-value pairs. It is a versatile data structure used for storing and managing data in the form of a mapping, where each key is associated with a value. Keys in dictionaries must be unique and immutable (e.g., strings, numbers, or tuples), while the values can be of any data type.\n",
        "\n",
        "Key Features of Dictionaries -\n",
        "\n",
        "*   Syntax: Defined using curly braces {} or with the dict() constructor.\n",
        "\n",
        "*   Key-Value Pairs: Each element consists of a key and a value, separated by a colon (:). Multiple pairs are separated by commas.\n",
        "\n",
        "*   Mutable: You can add, remove, or modify key-value pairs.\n",
        "\n",
        "\n",
        "\n",
        "\n",
        "\n",
        "\n",
        "\n",
        "\n"
      ],
      "metadata": {
        "id": "3zGjYJ5kVYaw"
      }
    },
    {
      "cell_type": "code",
      "execution_count": 6,
      "metadata": {
        "colab": {
          "base_uri": "https://localhost:8080/"
        },
        "id": "7yuuCla9VP4T",
        "outputId": "7e39e9c5-3f5c-4dfb-af19-38a632ce009d"
      },
      "outputs": [
        {
          "output_type": "stream",
          "name": "stdout",
          "text": [
            "{1: 1, 2: 3, 3: 3, 4: 4, 5: 1}\n"
          ]
        }
      ],
      "source": [
        "# Write a python function to count the frequency of each element in a given list using a dictionary\n",
        "\"\"\"\n",
        "   dict.get(key, default) method is used to retrieve the value associated with key from the dictionary.\n",
        "   and if the key (in this case, item) does not exist in the dictionary, it returns the default value provided (here, 0).\n",
        "   Example - If item = 2 and freq_dict = {1: 1}, freq_dict.get(2, 0) will return 0 because the key 2 is not in the dictionary.\n",
        "   If item = 1 and freq_dict = {1: 1}, freq_dict.get(1, 0) will return 1 because the key 1 is in the dictionary with a value of 1.\n",
        "   freq_dict.get(item, 0) + 1: This increases the frequency count of the current item by 1. If the item is not already in the dictionary, it starts from 0.\n",
        "\"\"\"\n",
        "def freq(lst):\n",
        "  freq_dcitionary = {}\n",
        "  for item in lst:\n",
        "    freq_dcitionary[item] = freq_dcitionary.get(item, 0) + 1\n",
        "  return freq_dcitionary\n",
        "\n",
        "lst = [1,2,2,2,3,3,3,4,4,4,4,5]\n",
        "print(freq(lst))"
      ]
    },
    {
      "cell_type": "code",
      "source": [
        "# Merge two dictionaries and handle duplicate keys by summng their values.\n",
        "\n",
        "def merge_dictioanries(dict1, dict2):\n",
        "  merged_dict = dict1.copy()\n",
        "  for key, value in dict2.items():\n",
        "        merged_dict[key] = merged_dict.get(key, 0) + value\n",
        "  return merged_dict\n",
        "\n",
        "# Example usage\n",
        "dict1 = {'a': 10, 'b': 20}\n",
        "dict2 = {'b': 30, 'c': 40}\n",
        "print(merge_dictioanries(dict1, dict2))\n",
        "\n",
        "# from collections import Counter\n",
        "# def merge_dictioanries(dict1, dict2):\n",
        "#   empty_dict = {}\n",
        "#   empty_dict = dict(Counter(dict1) + Counter(dict2))\n",
        "#   return empty_dict\n",
        "\n",
        "# dict1 = {'a': 1, 'b': 2}\n",
        "# dict2 = {'b': 3, 'c': 4}\n",
        "# print(merge_dictioanries(dict1, dict2))\n"
      ],
      "metadata": {
        "colab": {
          "base_uri": "https://localhost:8080/"
        },
        "id": "aPDxu_QqfwsR",
        "outputId": "149f0bf9-8d46-4a2b-e950-6ce08b827f3e"
      },
      "execution_count": 13,
      "outputs": [
        {
          "output_type": "stream",
          "name": "stdout",
          "text": [
            "{'a': 10, 'b': 50, 'c': 40}\n"
          ]
        }
      ]
    },
    {
      "cell_type": "code",
      "source": [],
      "metadata": {
        "id": "eQzhOCiYrvrv"
      },
      "execution_count": null,
      "outputs": []
    }
  ]
}