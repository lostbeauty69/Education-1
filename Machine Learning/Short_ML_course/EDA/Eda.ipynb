{
 "cells": [
  {
   "cell_type": "markdown",
   "metadata": {
    "id": "daZk6qC87DdZ"
   },
   "source": [
    "The **groupby** function is used to split a dataset into groups based on some criteria, apply a function (such as aggregation), and then combine the results back into a structured form. It’s a very useful tool for analyzing data, especially when you need to perform operations like summing, averaging, or counting data within subsets.\n",
    "\n",
    "Key Operations with groupby: **bold text**\n",
    "*  Splitting: Divide the data into groups based on some criteria (such as a column's unique values).\n",
    "* Applying: Perform a function (e.g., mean, sum, count) on each group.\n",
    "* Combining: Combine the results back into a final output.\n",
    "\n",
    "\n",
    "\n"
   ]
  },
  {
   "cell_type": "code",
   "execution_count": 2,
   "metadata": {
    "id": "8N3nOSx6FULU"
   },
   "outputs": [],
   "source": [
    "import pandas as pd\n",
    "import seaborn as sns\n",
    "import matplotlib.pyplot as plt\n",
    "import numpy as np"
   ]
  },
  {
   "cell_type": "code",
   "execution_count": 3,
   "metadata": {
    "colab": {
     "base_uri": "https://localhost:8080/"
    },
    "id": "0_C2kLnn7NPX",
    "outputId": "43325668-c2a1-435c-a5b6-9b7dde0f0b99"
   },
   "outputs": [
    {
     "name": "stdout",
     "output_type": "stream",
     "text": [
      "Category\n",
      "A     90\n",
      "B    120\n",
      "Name: Value, dtype: int64\n"
     ]
    }
   ],
   "source": [
    "# Sample DataFrame\n",
    "data = {\n",
    "    'Category': ['A', 'B', 'A', 'B', 'A', 'B'],\n",
    "    'Value': [10, 20, 30, 40, 50, 60]\n",
    "}\n",
    "df = pd.DataFrame(data)\n",
    "\n",
    "# Using groupby\n",
    "grouped = df.groupby('Category')['Value'].sum()\n",
    "print(grouped)\n"
   ]
  },
  {
   "cell_type": "markdown",
   "metadata": {
    "id": "Z7AGK1HFEWfH"
   },
   "source": [
    "**Correlation** -  strength and direction of the relationship between two variables. It quantifies how much one variable changes when another variable changes. Correlation is used to identify patterns, trends, and dependencies between two or more variables in data.\n",
    "\n",
    "**Magnitude**: The strength of the correlation, ranging from -1 to 1.\n",
    "*   +1: Perfect positive correlation — as one variable increases, the other also increases in a perfectly linear manner.\n",
    "*   -1: Perfect negative correlation — as one variable increases, the other decreases in a perfectly linear manner.\n",
    "*   0: No correlation — no linear relationship exists between the variables\n",
    "\n",
    "**Direction**:\n",
    "*   Positive Correlation: When one variable increases, the other variable also tends to increase.\n",
    "*   Negative Correlation: When one variable increases, the other variable tends to decrease.\n",
    "*   Zero Correlation: No discernible linear relationship between the two variables.\n",
    "\n",
    "\n",
    "\n",
    "\n",
    "\n",
    "\n"
   ]
  },
  {
   "cell_type": "code",
   "execution_count": null,
   "metadata": {
    "id": "qn30Vztw8iIg"
   },
   "outputs": [],
   "source": [
    "# sns.heatmap{corr, cmap='RdBu', vmin=1, vmax=1, annot=True,\n",
    "#             annot_kws={'frontsize':11, 'fontweight':'bold'}}"
   ]
  },
  {
   "cell_type": "markdown",
   "metadata": {
    "id": "5dMO65cTod7B"
   },
   "source": [
    "**Data Profiling and Summary Statistics**\n",
    "*   Objective: Get an overview of each feature in the dataset.\n",
    "*   Steps:\n",
    "         *   View data structure, data types, and missing values.\n",
    "         *   Calculate basic summary statistics (mean, median, standard deviation, etc.) for numerical features."
   ]
  },
  {
   "cell_type": "code",
   "execution_count": 5,
   "metadata": {
    "id": "bw9kmKhiLrd-"
   },
   "outputs": [],
   "source": [
    "np.random.seed(0)\n",
    "data = {\n",
    "    'Age': np.random.randint(18, 70, size=100),\n",
    "    'Salary': np.random.normal(50000, 12000, size=100),\n",
    "    'Department': np.random.choice(['HR', 'Engineering', 'Marketing', 'Sales'], size=100),\n",
    "    'Years_of_Experience': np.random.randint(1, 40, size=100),\n",
    "    'Marital_Status': np.random.choice(['Single', 'Married', 'Divorced'], size=100)\n",
    "}\n",
    "\n",
    "# Convert the columns to float before introducing NaN values\n",
    "data['Years_of_Experience'] = data['Years_of_Experience'].astype(float)\n",
    "\n",
    "# Introduce missing values\n",
    "data['Salary'][5:10] = np.nan\n",
    "data['Years_of_Experience'][15:20] = np.nan\n"
   ]
  },
  {
   "cell_type": "code",
   "execution_count": 6,
   "metadata": {
    "colab": {
     "base_uri": "https://localhost:8080/"
    },
    "id": "qTlcLsgOrOe7",
    "outputId": "edc73988-b51d-4fbb-bbd4-2efdbbe76ce1"
   },
   "outputs": [
    {
     "name": "stdout",
     "output_type": "stream",
     "text": [
      "Data Structure and Data Types:\n",
      "<class 'pandas.core.frame.DataFrame'>\n",
      "RangeIndex: 100 entries, 0 to 99\n",
      "Data columns (total 5 columns):\n",
      " #   Column               Non-Null Count  Dtype  \n",
      "---  ------               --------------  -----  \n",
      " 0   Age                  100 non-null    int32  \n",
      " 1   Salary               95 non-null     float64\n",
      " 2   Department           100 non-null    object \n",
      " 3   Years_of_Experience  95 non-null     float64\n",
      " 4   Marital_Status       100 non-null    object \n",
      "dtypes: float64(2), int32(1), object(2)\n",
      "memory usage: 3.6+ KB\n",
      "None\n"
     ]
    }
   ],
   "source": [
    "df = pd.DataFrame(data)\n",
    "\n",
    "# 1. View data structure and data types\n",
    "print(\"Data Structure and Data Types:\")\n",
    "print(df.info())"
   ]
  },
  {
   "cell_type": "code",
   "execution_count": 7,
   "metadata": {
    "colab": {
     "base_uri": "https://localhost:8080/"
    },
    "id": "WwAED9K3sFvD",
    "outputId": "59d764e2-09b6-411f-922e-99b1ed4b703b"
   },
   "outputs": [
    {
     "name": "stdout",
     "output_type": "stream",
     "text": [
      "Missing Values by Column:\n",
      "Age                    0\n",
      "Salary                 5\n",
      "Department             0\n",
      "Years_of_Experience    5\n",
      "Marital_Status         0\n",
      "dtype: int64\n"
     ]
    }
   ],
   "source": [
    "#Check for missing values\n",
    "print(\"Missing Values by Column:\")\n",
    "print(df.isnull().sum())"
   ]
  },
  {
   "cell_type": "code",
   "execution_count": 8,
   "metadata": {
    "colab": {
     "base_uri": "https://localhost:8080/"
    },
    "id": "yIp6y0obsbuf",
    "outputId": "f5593fb6-d4e6-48a4-c67f-6bd7a6f622a7"
   },
   "outputs": [
    {
     "name": "stdout",
     "output_type": "stream",
     "text": [
      "Summary Statistics for Numerical Features:\n",
      "              Age        Salary  Years_of_Experience\n",
      "count  100.000000     95.000000            95.000000\n",
      "mean    41.570000  49409.527745            20.052632\n",
      "std     15.537023  11907.645421            11.468151\n",
      "min     18.000000  21943.446189             1.000000\n",
      "25%     29.000000  41639.829223             9.500000\n",
      "50%     41.000000  49470.651105            21.000000\n",
      "75%     55.250000  55919.205681            29.500000\n",
      "max     69.000000  77932.857310            39.000000\n",
      "\n",
      "\n"
     ]
    }
   ],
   "source": [
    "#Calculate basic summary statistics for numerical features\n",
    "print(\"Summary Statistics for Numerical Features:\")\n",
    "print(df.describe())  # Provides count, mean, std, min, 25%, 50%, 75%, max for each numerical column\n",
    "print(\"\\n\")"
   ]
  },
  {
   "cell_type": "code",
   "execution_count": 9,
   "metadata": {
    "colab": {
     "base_uri": "https://localhost:8080/"
    },
    "id": "7RvgJ95Tsjmy",
    "outputId": "26ae5791-c8bd-4afe-bf9c-798ed9d35577"
   },
   "outputs": [
    {
     "name": "stdout",
     "output_type": "stream",
     "text": [
      "Median of Numerical Features:\n",
      "Age                       41.000000\n",
      "Salary                 49470.651105\n",
      "Years_of_Experience       21.000000\n",
      "dtype: float64\n"
     ]
    }
   ],
   "source": [
    "#Additional descriptive statistics (median, for example)\n",
    "print(\"Median of Numerical Features:\")\n",
    "print(df.median(numeric_only=True))  # 'numeric_only=True' ensures non-numeric columns are ignored"
   ]
  },
  {
   "cell_type": "code",
   "execution_count": null,
   "metadata": {
    "id": "tGeJawNosxag"
   },
   "outputs": [],
   "source": []
  }
 ],
 "metadata": {
  "colab": {
   "provenance": []
  },
  "kernelspec": {
   "display_name": "Python 3",
   "name": "python3"
  },
  "language_info": {
   "codemirror_mode": {
    "name": "ipython",
    "version": 3
   },
   "file_extension": ".py",
   "mimetype": "text/x-python",
   "name": "python",
   "nbconvert_exporter": "python",
   "pygments_lexer": "ipython3",
   "version": "3.11.2"
  }
 },
 "nbformat": 4,
 "nbformat_minor": 0
}
