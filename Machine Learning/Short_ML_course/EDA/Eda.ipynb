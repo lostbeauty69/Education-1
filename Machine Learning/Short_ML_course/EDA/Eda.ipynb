{
 "cells": [
  {
   "cell_type": "markdown",
   "metadata": {
    "id": "daZk6qC87DdZ"
   },
   "source": [
    "The **groupby** function is used to split a dataset into groups based on some criteria, apply a function (such as aggregation), and then combine the results back into a structured form. It’s a very useful tool for analyzing data, especially when you need to perform operations like summing, averaging, or counting data within subsets.\n",
    "\n",
    "Key Operations with groupby: **bold text**\n",
    "Splitting: Divide the data into groups based on some criteria (such as a column's unique values).\n",
    "Applying: Perform a function (e.g., mean, sum, count) on each group.\n",
    "Combining: Combine the results back into a final output."
   ]
  },
  {
   "cell_type": "code",
   "execution_count": 1,
   "metadata": {
    "colab": {
     "base_uri": "https://localhost:8080/"
    },
    "id": "0_C2kLnn7NPX",
    "outputId": "747e0221-c8ea-49a3-993a-d8426b6c7d13"
   },
   "outputs": [
    {
     "name": "stdout",
     "output_type": "stream",
     "text": [
      "Category\n",
      "A     90\n",
      "B    120\n",
      "Name: Value, dtype: int64\n"
     ]
    }
   ],
   "source": [
    "import pandas as pd\n",
    "\n",
    "# Sample DataFrame\n",
    "data = {\n",
    "    'Category': ['A', 'B', 'A', 'B', 'A', 'B'],\n",
    "    'Value': [10, 20, 30, 40, 50, 60]\n",
    "}\n",
    "df = pd.DataFrame(data)\n",
    "\n",
    "# Using groupby\n",
    "grouped = df.groupby('Category')['Value'].sum()\n",
    "print(grouped)\n"
   ]
  }
 ],
 "metadata": {
  "colab": {
   "provenance": []
  },
  "kernelspec": {
   "display_name": "Python 3",
   "name": "python3"
  },
  "language_info": {
   "name": "python"
  }
 },
 "nbformat": 4,
 "nbformat_minor": 0
}
